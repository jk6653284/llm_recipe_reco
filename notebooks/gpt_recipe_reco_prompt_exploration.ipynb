{
 "cells": [
  {
   "cell_type": "code",
   "execution_count": 1,
   "id": "94a1f6d0",
   "metadata": {},
   "outputs": [],
   "source": [
    "# imports\n",
    "import openai\n",
    "from dotenv import load_dotenv\n",
    "import os"
   ]
  },
  {
   "cell_type": "code",
   "execution_count": 2,
   "id": "0e84868f",
   "metadata": {},
   "outputs": [
    {
     "data": {
      "text/plain": [
       "True"
      ]
     },
     "execution_count": 2,
     "metadata": {},
     "output_type": "execute_result"
    }
   ],
   "source": [
    "# load env var\n",
    "load_dotenv()"
   ]
  },
  {
   "cell_type": "code",
   "execution_count": 3,
   "id": "96a0bcd5",
   "metadata": {},
   "outputs": [],
   "source": [
    "# openai setup\n",
    "openai.api_key = os.getenv(\"OPENAI_API_KEY\")\n",
    "model = 'gpt-3.5-turbo'"
   ]
  },
  {
   "cell_type": "markdown",
   "id": "f0610a1f",
   "metadata": {},
   "source": [
    "Observations on the way\n",
    "- omg the response time is actually quite slow and even then variable. At least a few seconds is expected. Might need to have some indication that output is still being generated instead of hanging there without any feedback"
   ]
  },
  {
   "cell_type": "markdown",
   "id": "a5458aba",
   "metadata": {},
   "source": [
    "## Ingredient recipe reco prompt test"
   ]
  },
  {
   "cell_type": "code",
   "execution_count": 4,
   "id": "c33748ad",
   "metadata": {},
   "outputs": [],
   "source": [
    "# chat completions settings\n",
    "\n",
    "temperature = 0.8 # pretty random response is fine, even preferable not to give same old boring results\n",
    "user_input_prefix_message = \"I want recipe recommendation that includes the following ingredients: \"\n",
    "sample_user_ingredient_input = \"black olives, sun-dried tomato\"\n",
    "messages = [\n",
    "    {\"role\": \"system\", \"content\": \"You are a recipe recommendation engine. Given a list of ingredients given by user, give at most 5 recipe that involves said ingredients. Return the name of the recipe, type of cuisine, and a brief description of the dish. If the dish is from a particular cuisine, also include the original language's name in English.\"},\n",
    "    {\"role\": \"user\", \"content\": user_input_prefix_message + sample_user_ingredient_input}\n",
    "]\n"
   ]
  },
  {
   "cell_type": "code",
   "execution_count": 5,
   "id": "2abf4899",
   "metadata": {},
   "outputs": [],
   "source": [
    "chat_completion = openai.ChatCompletion.create(\n",
    "    model=model,\n",
    "    messages=messages,\n",
    "    temperature=temperature\n",
    ")"
   ]
  },
  {
   "cell_type": "code",
   "execution_count": 14,
   "id": "401d2f8e",
   "metadata": {},
   "outputs": [
    {
     "name": "stdout",
     "output_type": "stream",
     "text": [
      "Here are 5 recipe recommendations that include black olives and sun-dried tomato:\n",
      "\n",
      "1. Mediterranean Pasta Salad - Mediterranean cuisine (originally called Insalata di pasta mediterranea in Italian): This dish is a cold pasta dish that involves cooking some pasta and mixing it with sun-dried tomatoes, black olives, red onion, feta cheese, and a homemade dressing made with olive oil, red wine vinegar, and dried oregano. It is perfect for a summer day picnic.\n",
      "\n",
      "2. Sun-Dried Tomato and Olive Tapenade - French cuisine: This is a classic French spread that involves blending sun-dried tomatoes, black olives, capers, garlic, lemon juice, and olive oil, and serving it with toasted bread or crackers as an appetizer.\n",
      "\n",
      "3. Mediterranean Stuffed Chicken Breasts - Mediterranean cuisine: This dish involves stuffing chicken breasts with chopped sun-dried tomatoes, black olives, feta cheese, and spinach, and serving it with a side salad or roasted vegetables.\n",
      "\n",
      "4. Sun-Dried Tomato and Olive Pizza - Italian cuisine: This pizza involves using sun-dried tomatoes, black olives, fresh mozzarella cheese, and fresh basil as toppings on a homemade or store-bought pizza crust. It is a great vegetarian pizza option.\n",
      "\n",
      "5. Sun-Dried Tomato and Olive Risotto - Italian cuisine: This risotto involves cooking arborio rice with chicken or vegetable broth, and adding in sun-dried tomatoes, black olives, and parmesan cheese. It is a comforting and flavorful dish that is perfect for a cozy night in.\n"
     ]
    }
   ],
   "source": [
    "response_text = chat_completion['choices'][0]['message']['content']\n",
    "print(response_text)"
   ]
  },
  {
   "cell_type": "code",
   "execution_count": 15,
   "id": "d36f0b6d",
   "metadata": {},
   "outputs": [],
   "source": [
    "# new input\n",
    "sample_user_ingredient_input = \"frozen shrimps\"\n",
    "messages = [\n",
    "    {\"role\": \"system\", \"content\": \"You are a recipe recommendation engine. Given a list of ingredients given by user, give at most 5 recipe that involves said ingredients. Return the name of the recipe, type of cuisine, and a brief description of the dish. If the dish is from a particular cuisine, also include the original language's name in English.\"},\n",
    "    {\"role\": \"user\", \"content\": user_input_prefix_message + sample_user_ingredient_input}\n",
    "]\n"
   ]
  },
  {
   "cell_type": "code",
   "execution_count": 16,
   "id": "65e5288c",
   "metadata": {},
   "outputs": [],
   "source": [
    "chat_completion = openai.ChatCompletion.create(\n",
    "    model=model,\n",
    "    messages=messages,\n",
    "    temperature=temperature\n",
    ")\n",
    "response_text = chat_completion['choices'][0]['message']['content']"
   ]
  },
  {
   "cell_type": "code",
   "execution_count": 17,
   "id": "61a68e66",
   "metadata": {},
   "outputs": [
    {
     "name": "stdout",
     "output_type": "stream",
     "text": [
      "Sure, here are five recipe recommendations that include frozen shrimps:\n",
      "\n",
      "1. Shrimp Fried Rice (Chinese cuisine) - A classic Chinese dish made with shrimp, vegetables, and rice stir-fried together with soy sauce and other seasonings.\n",
      "\n",
      "2. Creamy Garlic Shrimp Pasta (Italian cuisine) - A creamy and flavorful pasta dish made with shrimp, garlic, cream, Parmesan cheese, and pasta.\n",
      "\n",
      "3. Shrimp Tacos (Mexican cuisine) - A tasty Mexican dish made with seasoned shrimp, tortillas, avocado, and other toppings like salsa and sour cream.\n",
      "\n",
      "4. Shrimp and Grits (Southern cuisine) - A comforting Southern dish made with creamy grits and flavorful shrimp cooked with bacon, onions, and other seasonings.\n",
      "\n",
      "5. Shrimp Curry (Indian cuisine) - A flavorful Indian dish made with shrimp, coconut milk, curry spices, and other seasonings, served with rice or naan.\n"
     ]
    }
   ],
   "source": [
    "print(response_text)"
   ]
  },
  {
   "cell_type": "code",
   "execution_count": 18,
   "id": "965a85f9",
   "metadata": {},
   "outputs": [],
   "source": [
    "# okay the output style looks...quite variable? Going to try to directly input the system message as user input\n",
    "# as openai suggested \n",
    "\n",
    "sample_user_ingredient_input = \"frozen shrimps\"\n",
    "instruction_text = \"You are a recipe recommendation engine. Given a list of ingredients given by user, give at most 5 recipe that involves said ingredients. Return the name of the recipe, type of cuisine, and a brief description of the dish. If the dish is from a particular cuisine, also include the original language's name in English. \\n\"\n",
    "messages = [\n",
    "    {\"role\": \"user\", \"content\": instruction_text + user_input_prefix_message + sample_user_ingredient_input}\n",
    "]\n"
   ]
  },
  {
   "cell_type": "code",
   "execution_count": 19,
   "id": "8429055d",
   "metadata": {},
   "outputs": [],
   "source": [
    "chat_completion = openai.ChatCompletion.create(\n",
    "    model=model,\n",
    "    messages=messages,\n",
    "    temperature=temperature\n",
    ")\n",
    "response_text = chat_completion['choices'][0]['message']['content']"
   ]
  },
  {
   "cell_type": "code",
   "execution_count": 20,
   "id": "0cf890e4",
   "metadata": {},
   "outputs": [
    {
     "name": "stdout",
     "output_type": "stream",
     "text": [
      "1. Garlic Butter Shrimp (American cuisine): This dish consists of juicy, succulent shrimp sautéed in garlic butter and served on a bed of rice. It's a simple yet elegant meal that can be prepared in less than 30 minutes.\n",
      "\n",
      "2. Shrimp Fried Rice (Chinese cuisine): This classic Chinese dish is made with sautéed vegetables, rice, and scrambled eggs, all tossed together with tender shrimp. It's a delicious and filling meal that's perfect for a quick dinner.\n",
      "\n",
      "3. Shrimp Scampi (Italian cuisine): This dish features succulent shrimp cooked in a buttery garlic sauce and served over a bed of pasta. It's a classic Italian dish that's easy to make and always a crowd-pleaser.\n",
      "\n",
      "4. Shrimp Curry (Indian cuisine): This spicy and flavorful curry is made with tender shrimp cooked in a rich and creamy sauce made with coconut milk and a blend of aromatic spices. It's a delicious and satisfying meal that's perfect for a cozy night in.\n",
      "\n",
      "5. Shrimp Tacos (Mexican cuisine): This twist on a classic Mexican dish features tender shrimp cooked with spices and served on warm tortillas with fresh avocado, salsa, and a squeeze of lime. It's a fresh and flavorful meal that's perfect for a casual dinner with friends.\n"
     ]
    }
   ],
   "source": [
    "print(response_text)"
   ]
  },
  {
   "cell_type": "code",
   "execution_count": 25,
   "id": "3eb77dc2",
   "metadata": {},
   "outputs": [],
   "source": [
    "# okay trying with completions instead of chat. this is wild.\n",
    "completion = openai.Completion.create(\n",
    "    model='text-davinci-003',\n",
    "    prompt=instruction_text + user_input_prefix_message + sample_user_ingredient_input,\n",
    "    temperature=temperature,\n",
    ")"
   ]
  },
  {
   "cell_type": "code",
   "execution_count": 8,
   "id": "6736c8b4",
   "metadata": {},
   "outputs": [],
   "source": [
    "# prompts are getting longer so checking how long the prompt is\n",
    "# https://github.com/openai/tiktoken\n",
    "import tiktoken\n",
    "enc = tiktoken.encoding_for_model(model)"
   ]
  },
  {
   "cell_type": "code",
   "execution_count": 10,
   "id": "0248d0c2",
   "metadata": {},
   "outputs": [
    {
     "data": {
      "text/plain": [
       "228"
      ]
     },
     "execution_count": 10,
     "metadata": {},
     "output_type": "execute_result"
    }
   ],
   "source": [
    "system_instruction = \"\"\"\n",
    "You are a recipe recommendation engine. Your task is to give at most 5 recipe that involves one or more ingredient. Return the name of the recipe, type of cuisine if it exists, and a brief description of the dish. If the dish is from a particular cuisine, also include the original language's name in English.\n",
    "\n",
    "Example:\n",
    "user input = \"pork belly, anise\"\n",
    "Response:\n",
    "\n",
    "1. Recipe: Chinese Braised Pork Belly (红烧肉 - Hóng Shāo Ròu)\n",
    "Cuisine: Chinese\n",
    "Description: Pork belly braised in sauce made of anise, soy sauce, ginger, and other aromatic spices. It is often served with steamed rice and vegetables.\n",
    "\n",
    "2. Recipe: Spicy Anise Pork Belly Tacos\n",
    "Cuisine: Mexican/Asian-inspired\n",
    "Description: Taco includes marinated and grilled pork belly seasoned with spices, including anise, cumin, chili, and garlic. The pork belly is sliced and served in warm tortillas, along with your choice of toppings such as fresh cilantro, diced onions, and a squeeze of lime.\n",
    "\"\"\"\n",
    "\n",
    "len(enc.encode(system_instruction))"
   ]
  },
  {
   "cell_type": "code",
   "execution_count": 11,
   "id": "c2f58f33",
   "metadata": {},
   "outputs": [
    {
     "data": {
      "text/plain": [
       "481"
      ]
     },
     "execution_count": 11,
     "metadata": {},
     "output_type": "execute_result"
    }
   ],
   "source": [
    "# measuring length of sample results got in original chat\n",
    "example_response = \"\"\"\n",
    "Here are five recipe recommendations that involve pork belly and anise:\n",
    "\n",
    "Recipe: Chinese Braised Pork Belly (红烧肉 - Hóng Shāo Ròu)\n",
    "Cuisine: Chinese\n",
    "Description: This classic Chinese dish, known as \"Hong Shao Rou,\" features succulent pork belly braised in a flavorful sauce infused with anise, soy sauce, ginger, and other aromatic spices. The result is tender, melt-in-your-mouth pork belly with a rich, savory taste. It is often served with steamed rice and vegetables.\n",
    "\n",
    "Recipe: Star Anise and Soy Glazed Pork Belly\n",
    "Cuisine: Fusion/Asian-inspired\n",
    "Description: This recipe combines the rich flavors of star anise and soy sauce to create a sweet and savory glaze for crispy pork belly. The pork belly is roasted until crispy on the outside and tender on the inside, and then glazed with a mixture of star anise, soy sauce, honey, and other ingredients. It's a delightful fusion of flavors.\n",
    "\n",
    "Recipe: Slow-Cooked Pork Belly with Anise and Orange\n",
    "Cuisine: Mediterranean\n",
    "Description: This Mediterranean-inspired recipe features slow-cooked pork belly infused with the aromatic combination of anise and orange. The pork belly is braised with anise seeds, orange zest, garlic, and other seasonings, resulting in a tender and flavorful dish. It pairs well with roasted vegetables or a fresh salad.\n",
    "\n",
    "Recipe: Spicy Anise Pork Belly Tacos\n",
    "Cuisine: Mexican/Asian-inspired\n",
    "Description: These flavorful tacos feature marinated and grilled pork belly seasoned with spices, including anise, cumin, chili, and garlic. The pork belly is sliced and served in warm tortillas, along with your choice of toppings such as fresh cilantro, diced onions, and a squeeze of lime. It's a delicious fusion of Mexican and Asian flavors.\n",
    "\n",
    "Recipe: Anise-Glazed Pork Belly Skewers\n",
    "Cuisine: Barbecue/Grilling\n",
    "Description: These skewers are perfect for a barbecue or grilling session. Tender pieces of pork belly are marinated with a glaze made from anise, soy sauce, honey, and other ingredients, and then grilled to perfection. The result is a mouthwatering combination of smoky, sweet, and savory flavors.\n",
    "\n",
    "Enjoy preparing these delectable dishes featuring pork belly and anise!\n",
    "\"\"\"\n",
    "\n",
    "len(enc.encode(example_response))\n"
   ]
  },
  {
   "cell_type": "code",
   "execution_count": null,
   "id": "e52908a8",
   "metadata": {},
   "outputs": [],
   "source": [
    "# final design I'm going for right now\n",
    "\n",
    "\"\"\"\n",
    "You are a recipe recommendation engine. Your task is to give at most 5 recipes that involves one or more ingredient given by the user. Return the name of the recipe, type of cuisine if it exists, and a brief description of the dish. If the dish is from a particular cuisine, also include the original language name and english pronunciation of the name. If recipe is not from a specific cuisine, give back 'no specific cuisine' as cuisine type. Give result back in the following format:\n",
    "- <recipe title> (<original language title>, english pronunciation)\n",
    "- cuisine type\n",
    "- description\n",
    "\n",
    "ingredients: pork belly, anise\n",
    "\"\"\""
   ]
  }
 ],
 "metadata": {
  "kernelspec": {
   "display_name": "venv_rr",
   "language": "python",
   "name": "venv_rr"
  },
  "language_info": {
   "codemirror_mode": {
    "name": "ipython",
    "version": 3
   },
   "file_extension": ".py",
   "mimetype": "text/x-python",
   "name": "python",
   "nbconvert_exporter": "python",
   "pygments_lexer": "ipython3",
   "version": "3.9.6"
  }
 },
 "nbformat": 4,
 "nbformat_minor": 5
}
