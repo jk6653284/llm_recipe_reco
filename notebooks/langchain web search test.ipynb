{
 "cells": [
  {
   "cell_type": "code",
   "execution_count": 2,
   "id": "46d65432",
   "metadata": {},
   "outputs": [],
   "source": [
    "# imports\n",
    "import openai\n",
    "import dotenv\n",
    "import os\n",
    "\n",
    "from langchain.llms import OpenAI\n",
    "from langchain.prompts import PromptTemplate\n",
    "from langchain.chains import LLMChain\n",
    "from langchain.agents import load_tools, AgentType, initialize_agent\n",
    "from langchain.chat_models import ChatOpenAI"
   ]
  },
  {
   "cell_type": "code",
   "execution_count": 3,
   "id": "377e01a8",
   "metadata": {},
   "outputs": [
    {
     "data": {
      "text/plain": [
       "True"
      ]
     },
     "execution_count": 3,
     "metadata": {},
     "output_type": "execute_result"
    }
   ],
   "source": [
    "# load environment variables\n",
    "dotenv.load_dotenv()"
   ]
  },
  {
   "cell_type": "code",
   "execution_count": 8,
   "id": "29a674a6",
   "metadata": {},
   "outputs": [
    {
     "name": "stdout",
     "output_type": "stream",
     "text": [
      "10.3 s ± 1.88 s per loop (mean ± std. dev. of 7 runs, 1 loop each)\n"
     ]
    }
   ],
   "source": [
    "%%timeit\n",
    "llm = OpenAI(openai_api_key = os.getenv(\"OPENAI_API_KEY\"),\n",
    "            temperature=1.0)\n",
    "response = llm(\"Recommend me a recipe that uses potato and rosemary.\")"
   ]
  },
  {
   "cell_type": "code",
   "execution_count": 9,
   "id": "2ee7f7e4",
   "metadata": {},
   "outputs": [
    {
     "data": {
      "text/plain": [
       "'\\n\\nRoasted Rosemary Potatoes\\n\\nIngredients:\\n\\n- 4 large potatoes, cut into wedges\\n- 2 tablespoons olive oil\\n- 2 teaspoons minced garlic\\n- 1 teaspoon minced fresh rosemary\\n- Salt and pepper to taste\\n\\nInstructions:\\n\\n1. Preheat oven to 400 degrees F (200 degrees C).\\n\\n2. Place the potato wedges in a large bowl. Add the olive oil, garlic, rosemary, salt and pepper and gently toss to combine.\\n\\n3. Spread the potatoes out on a baking sheet.\\n\\n4. Bake for 25 to 30 minutes, or until golden brown and tender. Serve warm.'"
      ]
     },
     "execution_count": 9,
     "metadata": {},
     "output_type": "execute_result"
    }
   ],
   "source": [
    "response"
   ]
  },
  {
   "cell_type": "code",
   "execution_count": 11,
   "id": "40bc8d75",
   "metadata": {},
   "outputs": [],
   "source": [
    "# using simple chain (prompt template + llm run)\n",
    "# define llm\n",
    "llm = OpenAI(openai_api_key = os.getenv(\"OPENAI_API_KEY\"),\n",
    "            temperature=1.0)\n",
    "# define prompt template\n",
    "prompt_template = PromptTemplate(input_variables=['ingredients'],\n",
    "                                template=\"Recommend me a recipe that uses the following ingredients: {ingredients}\")\n",
    "# build chain\n",
    "chain = LLMChain(llm=llm,prompt=prompt_template,verbose=True)"
   ]
  },
  {
   "cell_type": "code",
   "execution_count": 12,
   "id": "c65c197d",
   "metadata": {},
   "outputs": [
    {
     "name": "stdout",
     "output_type": "stream",
     "text": [
      "\n",
      "\n",
      "\u001b[1m> Entering new LLMChain chain...\u001b[0m\n",
      "Prompt after formatting:\n",
      "\u001b[32;1m\u001b[1;3mRecommend me a recipe that uses the following ingredients: potato, rosemary\u001b[0m\n",
      "\n",
      "\u001b[1m> Finished chain.\u001b[0m\n"
     ]
    },
    {
     "data": {
      "text/plain": [
       "'\\n\\nParmesan Rosemary Baked Potato Wedges. \\n\\nIngredients\\n- 2 large potatoes, washed and cut into wedges\\n- 2 tablespoons olive oil\\n- 2 cloves garlic, minced\\n- 2 teaspoons fresh rosemary, finely chopped\\n- 1/4 teaspoon salt\\n- Black pepper, to taste\\n- 2 tablespoons freshly grated Parmesan cheese\\n\\nInstructions\\n1. Preheat oven to 400°F (205°C).\\n2. Lay the potato wedges on a lined baking sheet. \\n3. Drizzle with olive oil and toss to coat.  \\n4. Sprinkle the garlic, rosemary, salt, and pepper over the potatoes and mix until they are all evenly seasoned. \\n5. Bake for 15 minutes and then rotate the baking sheet 180°.\\n5. Continue baking for 15 minutes or until potatoes are golden brown and crispy. \\n6. Sprinkle with Parmesan cheese and bake for another 1-2 minutes, or until Parmesan has melted. \\n7. Serve warm!'"
      ]
     },
     "execution_count": 12,
     "metadata": {},
     "output_type": "execute_result"
    }
   ],
   "source": [
    "chain.run(\"potato, rosemary\")"
   ]
  },
  {
   "cell_type": "code",
   "execution_count": 4,
   "id": "ca079569",
   "metadata": {},
   "outputs": [],
   "source": [
    "# 3 components: tool, llm, agent\n",
    "# llm\n",
    "llm = OpenAI(openai_api_key = os.getenv(\"OPENAI_API_KEY\"),\n",
    "            temperature=1.0)\n",
    "# tool\n",
    "tools = load_tools(tool_names=['serpapi'], llm=llm)\n",
    "# initialize agent with tools and agent type zero shot\n",
    "agent = initialize_agent(tools=tools,llm=llm,agent=AgentType.ZERO_SHOT_REACT_DESCRIPTION,verbose=True)"
   ]
  },
  {
   "cell_type": "code",
   "execution_count": 5,
   "id": "3966d49c",
   "metadata": {},
   "outputs": [
    {
     "name": "stdout",
     "output_type": "stream",
     "text": [
      "\n",
      "\n",
      "\u001b[1m> Entering new AgentExecutor chain...\u001b[0m\n",
      "\u001b[32;1m\u001b[1;3m I need to find out what the weather was like in Berlin yesterday.\n",
      "Action: Search\n",
      "Action Input: Berlin weather yesterday\u001b[0m\n",
      "Observation: \u001b[36;1m\u001b[1;3m61 °F · Sunny. 6 mph ...\u001b[0m\n",
      "Thought:\u001b[32;1m\u001b[1;3m I need to find a recipe based on the information I gathered. \n",
      "Action: Search\n",
      "Action Input: Sunny recipe\u001b[0m\n",
      "Observation: \u001b[36;1m\u001b[1;3mhttps://www.foodnetwork.com/profiles/talent/sunny-anderson/recipes\u001b[0m\n",
      "Thought:\u001b[32;1m\u001b[1;3m I now know the final answer\n",
      "Final Answer: A recipe from Sunny Anderson that is appropriate for the weather in Berlin yesterday would be Cashew Chicken Pineapple Curry.\u001b[0m\n",
      "\n",
      "\u001b[1m> Finished chain.\u001b[0m\n"
     ]
    },
    {
     "data": {
      "text/plain": [
       "'A recipe from Sunny Anderson that is appropriate for the weather in Berlin yesterday would be Cashew Chicken Pineapple Curry.'"
      ]
     },
     "execution_count": 5,
     "metadata": {},
     "output_type": "execute_result"
    }
   ],
   "source": [
    "# run test prompt\n",
    "# hahahaha sunny anderson\n",
    "prompt = \"What was the weather like in Berlin yesterday? Recommend me a recipe that is appropriate for the weather.\"\n",
    "agent.run(prompt)"
   ]
  },
  {
   "cell_type": "code",
   "execution_count": 7,
   "id": "71a89541",
   "metadata": {},
   "outputs": [
    {
     "name": "stdout",
     "output_type": "stream",
     "text": [
      "\n",
      "\n",
      "\u001b[1m> Entering new AgentExecutor chain...\u001b[0m\n",
      "\u001b[32;1m\u001b[1;3m I should start by finding out what the weather was like yesterday in Berlin.\n",
      "Action: Search\n",
      "Action Input: Weather in Berlin yesterday\u001b[0m\n",
      "Observation: \u001b[36;1m\u001b[1;3mhttps://www.timeanddate.com/weather/germany/berlin/historic\u001b[0m\n",
      "Thought:\u001b[32;1m\u001b[1;3m The weather was warm and sunny, so a summer recipe would be great.\n",
      "Action: Search\n",
      "Action Input: Summer recipes\u001b[0m\n",
      "Observation: \u001b[36;1m\u001b[1;3mGrilled Chicken Breasts With Tadka-ish Sauce · Easiest-Ever Grilled Veggie Burgers · Classic Potato Salad · Raspberry-Cardamom Yogurt Semifreddo.\u001b[0m\n",
      "Thought:\u001b[32;1m\u001b[1;3m I now know what type of recipe to make.\n",
      "Final Answer: A summer recipe, such as Grilled Chicken Breasts with Tadka-ish Sauce, Easiest-Ever Grilled Veggie Burgers, Classic Potato Salad, or Raspberry-Cardamom Yogurt Semifreddo.\u001b[0m\n",
      "\n",
      "\u001b[1m> Finished chain.\u001b[0m\n"
     ]
    },
    {
     "data": {
      "text/plain": [
       "'A summer recipe, such as Grilled Chicken Breasts with Tadka-ish Sauce, Easiest-Ever Grilled Veggie Burgers, Classic Potato Salad, or Raspberry-Cardamom Yogurt Semifreddo.'"
      ]
     },
     "execution_count": 7,
     "metadata": {},
     "output_type": "execute_result"
    }
   ],
   "source": [
    "prompt = \"What was the weather like in Berlin yesterday? Recommend me a recipe that is weather appropriate.\"\n",
    "agent.run(prompt)"
   ]
  },
  {
   "cell_type": "code",
   "execution_count": 3,
   "id": "a60843e1",
   "metadata": {},
   "outputs": [
    {
     "data": {
      "text/plain": [
       "['python_repl',\n",
       " 'requests',\n",
       " 'requests_get',\n",
       " 'requests_post',\n",
       " 'requests_patch',\n",
       " 'requests_put',\n",
       " 'requests_delete',\n",
       " 'terminal',\n",
       " 'sleep',\n",
       " 'wolfram-alpha',\n",
       " 'google-search',\n",
       " 'google-search-results-json',\n",
       " 'searx-search-results-json',\n",
       " 'bing-search',\n",
       " 'metaphor-search',\n",
       " 'ddg-search',\n",
       " 'google-serper',\n",
       " 'google-serper-results-json',\n",
       " 'serpapi',\n",
       " 'twilio',\n",
       " 'searx-search',\n",
       " 'wikipedia',\n",
       " 'arxiv',\n",
       " 'pupmed',\n",
       " 'human',\n",
       " 'awslambda',\n",
       " 'sceneXplain',\n",
       " 'graphql',\n",
       " 'openweathermap-api',\n",
       " 'news-api',\n",
       " 'tmdb-api',\n",
       " 'podcast-api',\n",
       " 'pal-math',\n",
       " 'pal-colored-objects',\n",
       " 'llm-math',\n",
       " 'open-meteo-api']"
      ]
     },
     "execution_count": 3,
     "metadata": {},
     "output_type": "execute_result"
    }
   ],
   "source": [
    "from langchain.agents.load_tools import get_all_tool_names\n",
    "get_all_tool_names()"
   ]
  },
  {
   "cell_type": "code",
   "execution_count": 3,
   "id": "9742789d",
   "metadata": {},
   "outputs": [],
   "source": [
    "# testing with google search instead of serpapi\n",
    "# 3 components: tool, llm, agent\n",
    "# llm\n",
    "llm = OpenAI(openai_api_key = os.getenv(\"OPENAI_API_KEY\"),\n",
    "            temperature=1.0)\n",
    "# tool\n",
    "tools = load_tools(tool_names=['google-search-results-json'], llm=llm)\n",
    "# initialize agent with tools and agent type zero shot\n",
    "agent = initialize_agent(tools=tools,llm=llm,agent=AgentType.ZERO_SHOT_REACT_DESCRIPTION,verbose=True)\n"
   ]
  },
  {
   "cell_type": "code",
   "execution_count": 4,
   "id": "6a6b63d3",
   "metadata": {},
   "outputs": [
    {
     "name": "stdout",
     "output_type": "stream",
     "text": [
      "\n",
      "\n",
      "\u001b[1m> Entering new AgentExecutor chain...\u001b[0m\n",
      "\u001b[32;1m\u001b[1;3m I need to find cooking recipes\n",
      "Action: Google Search Results JSON\n",
      "Action Input: \"avocado toast recipe\"\u001b[0m\n",
      "Observation: \u001b[36;1m\u001b[1;3m[{'title': \"The Last Avocado Toast Recipe You'll Ever Need\", 'link': 'https://www.eatingwell.com/recipe/8029771/avocado-toast-recipe/', 'snippet': 'Mar 21, 2023 ... Top toasted bread with mashed avocado mixture. Drizzle with olive oil and sprinkle over desired toppings.'}, {'title': 'Avocado Toast Recipe (Plus Tips & Variations) - Cookie and Kate', 'link': 'https://cookieandkate.com/avocado-toast-recipe/', 'snippet': 'Toast your slice of bread until golden and firm. · Remove the pit from your avocado. Use a big spoon to scoop out the flesh. · Spread avocado on top of your toast\\xa0...'}, {'title': 'Avocado Toast - The Forked Spoon', 'link': 'https://theforkedspoon.com/avocado-toast/', 'snippet': 'Feb 28, 2022 ... 2 slices bread - toasted (multi-grain, sourdough, wheat, gluten-free, etc.) ; 1 large avocado ; 1 teaspoon fresh lemon juice ; 2 teaspoon extra\\xa0...'}, {'title': 'The Best Avocado Toast Recipe | Food Network Kitchen | Food ...', 'link': 'https://www.foodnetwork.com/recipes/food-network-kitchen/avocado-toasts-3364588', 'snippet': 'Directions · Mash the avocado with a fork in a shallow bowl until chunky. Season with fine salt and black pepper. · Toast the bread until browned and crisp.'}]\u001b[0m\n",
      "Thought:\u001b[32;1m\u001b[1;3m I'll pick out the most relevant links\n",
      "Final Answer:\n",
      "1. The Last Avocado Toast Recipe You'll Ever Need - https://www.eatingwell.com/recipe/8029771/avocado-toast-recipe/\n",
      "2. Avocado Toast Recipe (Plus Tips & Variations) - Cookie and Kate - https://cookieandkate.com/avocado-toast-recipe/\n",
      "3. Avocado Toast - The Forked Spoon - https://theforkedspoon.com/avocado-toast/\n",
      "4. The Best Avocado Toast Recipe | Food Network Kitchen | Food ... - https://www.foodnetwork.com/recipes/food-network-kitchen/avocado-toasts-3364588\u001b[0m\n",
      "\n",
      "\u001b[1m> Finished chain.\u001b[0m\n"
     ]
    },
    {
     "data": {
      "text/plain": [
       "\"1. The Last Avocado Toast Recipe You'll Ever Need - https://www.eatingwell.com/recipe/8029771/avocado-toast-recipe/\\n2. Avocado Toast Recipe (Plus Tips & Variations) - Cookie and Kate - https://cookieandkate.com/avocado-toast-recipe/\\n3. Avocado Toast - The Forked Spoon - https://theforkedspoon.com/avocado-toast/\\n4. The Best Avocado Toast Recipe | Food Network Kitchen | Food ... - https://www.foodnetwork.com/recipes/food-network-kitchen/avocado-toasts-3364588\""
      ]
     },
     "execution_count": 4,
     "metadata": {},
     "output_type": "execute_result"
    }
   ],
   "source": [
    "recipe_name = \"avocado toast\"\n",
    "prompt = f\"Return maximum 5 recipe urls for the following recipe: {recipe_name}\"\n",
    "agent.run(prompt)"
   ]
  },
  {
   "cell_type": "code",
   "execution_count": 5,
   "id": "5408eaaf",
   "metadata": {},
   "outputs": [
    {
     "name": "stdout",
     "output_type": "stream",
     "text": [
      "\n",
      "\n",
      "\u001b[1m> Entering new AgentExecutor chain...\u001b[0m\n",
      "\u001b[32;1m\u001b[1;3m I should search for recipes that include the ingredients in this specific dish \n",
      "Action: Google Search Results JSON\n",
      "Action Input: \"Braised Pork Belly recipe\"\u001b[0m\n",
      "Observation: \u001b[36;1m\u001b[1;3m[{'title': 'Shanghai-Style Braised Pork Belly (Hong Shao Rou) - The Woks of ...', 'link': 'https://thewoksoflife.com/shanghai-style-braised-pork-belly/', 'snippet': 'Apr 14, 2014 ... Cover and simmer over medium heat for about 45 minutes to 1 hour until pork is fork tender. Every 5-10 minutes, stir to prevent burning and add\\xa0...'}, {'title': 'Braised Pork Belly (Hong Shao Rou/红烧肉), an Easy Version - Red ...', 'link': 'https://redhousespice.com/red-cooked-pork-belly/', 'snippet': 'Jan 29, 2021 ... Bring the liquid to a full boil. Cover with a lid and leave to simmer over low heat for 1-1.5 hour until the meat is fork-tender (During the\\xa0...'}, {'title': 'Braised Pork Belly with Pickled Radishes Recipe - Gail Simmons', 'link': 'https://www.foodandwine.com/recipes/braised-pork-belly-pickled-radishes', 'snippet': 'Oct 13, 2022 ... Cover and braise in the oven for 2 hours, until the meat is nearly tender. Uncover and braise for 1 hour longer, until the meat is very tender.'}, {'title': 'Braised pork belly recipe- how to make it melt-in-the-mouth', 'link': 'https://www.tasteasianfood.com/braised-pork/', 'snippet': 'Jan 29, 2022 ... Braise the pork with the lid on for 1 1/2 hours or until the meat is soft and tender. Check the amount of water occasionally. Add more water if\\xa0...'}]\u001b[0m\n",
      "Thought:\u001b[32;1m\u001b[1;3m I now have the urls of 5 recipes for braised pork belly \n",
      "Final Answer: The maximum 5 recipe urls for the following recipe: Braised Pork Belly (红烧肉, hóng shāo ròu) are https://thewoksoflife.com/shanghai-style-braised-pork-belly/, https://redhousespice.com/red-cooked-pork-belly/, https://www.foodandwine.com/recipes/braised-pork-belly-pickled-radishes, https://www.tasteasianfood.com/braised-pork/, and https://www.seriouseats.com/recipes/2010/12/sous-vide-braised-pork-belly-recipe.html.\u001b[0m\n",
      "\n",
      "\u001b[1m> Finished chain.\u001b[0m\n"
     ]
    },
    {
     "data": {
      "text/plain": [
       "'The maximum 5 recipe urls for the following recipe: Braised Pork Belly (红烧肉, hóng shāo ròu) are https://thewoksoflife.com/shanghai-style-braised-pork-belly/, https://redhousespice.com/red-cooked-pork-belly/, https://www.foodandwine.com/recipes/braised-pork-belly-pickled-radishes, https://www.tasteasianfood.com/braised-pork/, and https://www.seriouseats.com/recipes/2010/12/sous-vide-braised-pork-belly-recipe.html.'"
      ]
     },
     "execution_count": 5,
     "metadata": {},
     "output_type": "execute_result"
    }
   ],
   "source": [
    "recipe_name = \"Braised Pork Belly (红烧肉, hóng shāo ròu)\"\n",
    "prompt = f\"Return maximum 5 recipe urls for the following recipe: {recipe_name}\"\n",
    "agent.run(prompt)"
   ]
  },
  {
   "cell_type": "code",
   "execution_count": 6,
   "id": "10f1482c",
   "metadata": {},
   "outputs": [
    {
     "name": "stdout",
     "output_type": "stream",
     "text": [
      "\n",
      "\n",
      "\u001b[1m> Entering new AgentExecutor chain...\u001b[0m\n",
      "\u001b[32;1m\u001b[1;3m There are many results when searching for this recipe--I should narrow it down.\n",
      "Action: Google Search Results JSON\n",
      "Action Input: \"Lok lak recipe\"\u001b[0m\n",
      "Observation: \u001b[36;1m\u001b[1;3m[{'title': 'Lok Lak (Shaking Beef) Recipe', 'link': 'https://www.simplyrecipes.com/lok-lak-shaking-beef-recipe-7089865', 'snippet': 'Feb 13, 2023 ... Ingredients · 2 tablespoons oyster sauce · 1 tablespoon tomato paste · 2 tablespoons fish sauce · 1/2 tablespoon dark brown sugar · 2 teaspoons\\xa0...'}, {'title': \"Cambodian Pepper Beef (Lok Lak) | Marion's Kitchen\", 'link': 'https://www.marionskitchen.com/cambodian-pepper-beef-lok-lak/', 'snippet': 'Marinade: 1 tbsp oyster sauce. 1 tbsp soy sauce. 2 tsp sweet dark soy sauce. 1 tsp ground Kampot pepper*. 1 tsp cornflour (cornstarch). ½ tsp baking soda · Stir-\\xa0...'}, {'title': 'Cambodian Black Pepper Beef (Lok Lak) Recipe - Nite Yun', 'link': 'https://www.foodandwine.com/recipes/cambodian-black-pepper-beef-lok-lak', 'snippet': 'Jul 1, 2019 ... Ingredients · 1/3 cup oyster sauce · 1/4 cup crushed garlic (about 8 garlic cloves) · 3 tablespoons cooking rice wine · 2 3/4 tablespoons raw sugar.'}, {'title': 'Beef Lok Lak (Cambodian Recipe) Recipe - Food.com', 'link': 'https://www.food.com/recipe/beef-lok-lak-cambodian-recipe-496461', 'snippet': 'ingredients · 300 g beef steaks, sliced (best you can afford) · ⁄4 cup light soy sauce · 1 tablespoon oyster sauce · 1 tablespoon tomato sauce (ketchup) · 3\\xa0...'}]\u001b[0m\n",
      "Thought:\u001b[32;1m\u001b[1;3m I should look at more results.\n",
      "Action: Google Search Results JSON\n",
      "Action Input: \"Lok lak recipe site:www.simplyrecipes.com\"\u001b[0m\n",
      "Observation: \u001b[36;1m\u001b[1;3m[{'title': 'Lok Lak (Shaking Beef) Recipe', 'link': 'https://www.simplyrecipes.com/lok-lak-shaking-beef-recipe-7089865', 'snippet': 'Feb 13, 2023 ... Lok lak is a Cambodian beef dish served with crispy lettuce and fresh tomatoes. Also known as shaking beef, lok lak is simple to make,\\xa0...'}, {'title': 'Steak Recipes - Steaks & Steak Ideas', 'link': 'https://www.simplyrecipes.com/steak-recipes-5091159', 'snippet': 'Get steak recipes for every season, indoors or out. ... We have steak recipes for every season, over the coals or under the ... Lok Lak (Shaking Beef).'}, {'title': 'World Cuisine Recipes & Food Ideas', 'link': 'https://www.simplyrecipes.com/world-cuisine-recipes-5090811', 'snippet': 'World cuisine recipes help us explore without leaving the kitchen. ... Explore Recipes By World Cuisine ... Lok Lak (Shaking Beef). 25 mins. Ratings.'}, {'title': 'Lany Phlong - Simply Recipes', 'link': 'https://www.simplyrecipes.com/lany-phlong-5509327', 'snippet': 'About Simply Recipes. Simply Recipes, a Dotdash brand, is here to help you cook delicious meals with less stress and more joy, ... Lok Lak (Shaking Beef).'}]\u001b[0m\n",
      "Thought:\u001b[32;1m\u001b[1;3m I now have a sufficient set of results to pick from.\n",
      "Final Answer: \n",
      "1. https://www.simplyrecipes.com/lok-lak-shaking-beef-recipe-7089865\n",
      "2. https://www.marionskitchen.com/cambodian-pepper-beef-lok-lak/\n",
      "3. https://www.foodandwine.com/recipes/cambodian-black-pepper-beef-lok-lak\n",
      "4. https://www.food.com/recipe/beef-lok-lak-cambodian-recipe-496461\n",
      "5. https://www.simplyrecipes.com/lany-phlong-5509327\u001b[0m\n",
      "\n",
      "\u001b[1m> Finished chain.\u001b[0m\n"
     ]
    },
    {
     "data": {
      "text/plain": [
       "'1. https://www.simplyrecipes.com/lok-lak-shaking-beef-recipe-7089865\\n2. https://www.marionskitchen.com/cambodian-pepper-beef-lok-lak/\\n3. https://www.foodandwine.com/recipes/cambodian-black-pepper-beef-lok-lak\\n4. https://www.food.com/recipe/beef-lok-lak-cambodian-recipe-496461\\n5. https://www.simplyrecipes.com/lany-phlong-5509327'"
      ]
     },
     "execution_count": 6,
     "metadata": {},
     "output_type": "execute_result"
    }
   ],
   "source": [
    "recipe_name = \"Lok lak (ល្ហុក្ខិតខ្មែរ, Lohk lahk)\"\n",
    "prompt = f\"Return maximum 5 recipe urls for the following recipe: {recipe_name}\"\n",
    "agent.run(prompt)"
   ]
  },
  {
   "cell_type": "markdown",
   "id": "7a2e78e5",
   "metadata": {},
   "source": [
    "Chained steps\n",
    "- user input\n",
    "- recipe reco (allow selection so divide result by button)\n",
    "- recipe search on web\n",
    "- share back url of top web results"
   ]
  },
  {
   "cell_type": "code",
   "execution_count": 7,
   "id": "c4e7fede",
   "metadata": {},
   "outputs": [
    {
     "name": "stdout",
     "output_type": "stream",
     "text": [
      "\n",
      "\n",
      "\u001b[1m> Entering new AgentExecutor chain...\u001b[0m\n",
      "\u001b[32;1m\u001b[1;3m I need to use a tool to gather relevant search results\n",
      "Action: Google Search Results JSON\n",
      "Action Input: \"Lok lak beginner cambodian recipes\"\u001b[0m\n",
      "Observation: \u001b[36;1m\u001b[1;3m[{'title': \"Cambodian Pepper Beef (Lok Lak) | Marion's Kitchen\", 'link': 'https://www.marionskitchen.com/cambodian-pepper-beef-lok-lak/', 'snippet': \"It's one of my favourite ways to eat sirloin steak – and it's ready in under 30 minutes. Winner! WATCH THIS RECIPE. Cambodian Pepper Beef (Lok Lak).\"}, {'title': 'Lok Lak (Shaking Beef) Recipe', 'link': 'https://www.simplyrecipes.com/lok-lak-shaking-beef-recipe-7089865', 'snippet': \"Feb 13, 2023 ... Lok lak is a Cambodian beef dish served with crispy lettuce and fresh ... Lok lak is for a special occasion, but it's also easy enough for a\\xa0...\"}, {'title': 'Beef Lok Lak (Cambodian Recipe) Recipe - Food.com', 'link': 'https://www.food.com/recipe/beef-lok-lak-cambodian-recipe-496461', 'snippet': 'ingredients · 300 g beef steaks, sliced (best you can afford) · ⁄4 cup light soy sauce · 1 tablespoon oyster sauce · 1 tablespoon tomato sauce (ketchup) · 3\\xa0...'}, {'title': 'Cambodian Beef Loc Lac Recipe - Cambodia Recipe', 'link': 'https://cambodiarecipe.com/recipe/cambodian-beef-loc-lac-recipe/', 'snippet': 'Oct 21, 2022 ... Ingredients. 2 lbs (900 gram) of good beef cube to bite size, marinate with 4 tablespoon of oyster sauce. 2 tablespoon of sugar (more or less up\\xa0...'}]\u001b[0m\n",
      "Thought:\u001b[32;1m\u001b[1;3m I should look through all of the search results\n",
      "Action: Iterate through JSON objects\n",
      "Action Input: JSON results\u001b[0m\n",
      "Observation: Iterate through JSON objects is not a valid tool, try another one.\n",
      "Thought:\u001b[32;1m\u001b[1;3m I should look for specific URLs\n",
      "Action: Regex\n",
      "Action Input: JSON results\u001b[0m\n",
      "Observation: Regex is not a valid tool, try another one.\n",
      "Thought:\u001b[32;1m\u001b[1;3m I should collect URLs from the search results\n",
      "Action: Extract URLs\n",
      "Action Input: JSON results\u001b[0m\n",
      "Observation: Extract URLs is not a valid tool, try another one.\n",
      "Thought:\u001b[32;1m\u001b[1;3m I should select the most relevant results\n",
      "Action: Filter by relevance\n",
      "Action Input: JSON results\u001b[0m\n",
      "Observation: Filter by relevance is not a valid tool, try another one.\n",
      "Thought:\u001b[32;1m\u001b[1;3m I need to extract only URLs from the search results\n",
      "Action: Parse URLs\n",
      "Action Input: JSON results\u001b[0m\n",
      "Observation: Parse URLs is not a valid tool, try another one.\n",
      "Thought:\u001b[32;1m\u001b[1;3m I need to obtain maximum 5 URLs from the search results \n",
      "Action: Iterate through JSON objects and extract URLs\n",
      "Action Input: JSON results\u001b[0m\n",
      "Observation: Iterate through JSON objects and extract URLs is not a valid tool, try another one.\n",
      "Thought:\u001b[32;1m\u001b[1;3m I should select the most relevant results from the search results\n",
      "Action: Filter by relevance and extract URLs\n",
      "Action Input: JSON results\u001b[0m\n",
      "Observation: Filter by relevance and extract URLs is not a valid tool, try another one.\n",
      "Thought:\u001b[32;1m\u001b[1;3m I should extract the URLs of the most relevant search results\n",
      "Action: Sort by relevance and parse URLs\n",
      "Action Input: JSON results\u001b[0m\n",
      "Observation: Sort by relevance and parse URLs is not a valid tool, try another one.\n",
      "Thought:\u001b[32;1m\u001b[1;3m I should obtain the maximum 5 URLs from the most relevant search results\n",
      "Action: Sort by relevance and collect URLs\n",
      "Action Input: JSON results\u001b[0m\n",
      "Observation: Sort by relevance and collect URLs is not a valid tool, try another one.\n",
      "Thought:\u001b[32;1m\u001b[1;3m I should gather the most relevant search results and extract the URLs\n",
      "Action: Sort by relevance, filter by relevance, and parse URLs\n",
      "Action Input: JSON results\u001b[0m\n",
      "Observation: Sort by relevance, filter by relevance, and parse URLs is not a valid tool, try another one.\n",
      "Thought:\u001b[32;1m\u001b[1;3m I should gather the maximum 5 URLs from the most relevant search results\n",
      "Action: Sort by relevance, filter by relevance, and collect URLs\n",
      "Action Input: JSON results\u001b[0m\n",
      "Observation: Sort by relevance, filter by relevance, and collect URLs is not a valid tool, try another one.\n",
      "Thought:\u001b[32;1m\u001b[1;3m I need to extract the maximum 5 URLs from the most relevant search results\n",
      "Action: Sort by relevance, filter by relevance, and extract URLs\n",
      "Action Input: JSON results\u001b[0m\n",
      "Observation: Sort by relevance, filter by relevance, and extract URLs is not a valid tool, try another one.\n",
      "Thought:\u001b[32;1m\u001b[1;3m I should be able to obtain the maximum 5 URLs from the most relevant search results\n",
      "Action: Sort by relevance, filter by relevance, and collect URLs\n",
      "Action Input: JSON results\u001b[0m\n",
      "Observation: Sort by relevance, filter by relevance, and collect URLs is not a valid tool, try another one.\n",
      "Thought:\u001b[32;1m\u001b[1;3m I need a tool to selectively extract URLs from relevant search results\n",
      "Action: Sort by relevance, filter by relevance, and parse URLs\n",
      "Action Input: JSON results\u001b[0m\n",
      "Observation: Sort by relevance, filter by relevance, and parse URLs is not a valid tool, try another one.\n",
      "Thought:\u001b[32;1m\u001b[1;3m\u001b[0m\n",
      "\n",
      "\u001b[1m> Finished chain.\u001b[0m\n"
     ]
    },
    {
     "data": {
      "text/plain": [
       "'Agent stopped due to iteration limit or time limit.'"
      ]
     },
     "execution_count": 7,
     "metadata": {},
     "output_type": "execute_result"
    }
   ],
   "source": [
    "recipe_name = \"Lok lak (ល្ហុក្ខិតខ្មែរ, Lohk lahk)\"\n",
    "context = \"beginner cambodian dish\"\n",
    "prompt = f\"Return maximum 5 recipe urls for the following recipe in the context of {context}: {recipe_name}\"\n",
    "agent.run(prompt)"
   ]
  },
  {
   "cell_type": "code",
   "execution_count": 8,
   "id": "9646857e",
   "metadata": {},
   "outputs": [
    {
     "name": "stdout",
     "output_type": "stream",
     "text": [
      "\n",
      "\n",
      "\u001b[1m> Entering new AgentExecutor chain...\u001b[0m\n",
      "\u001b[32;1m\u001b[1;3m Let's search for recipes that are beginner-friendly\n",
      "Action: Google Search Results JSON\n",
      "Action Input: beginner cambodian dish: fried rice recipes\u001b[0m\n",
      "Observation: \u001b[36;1m\u001b[1;3m[{'title': 'Cambodian Fried Rice Recipe – How to Make the Best Bai Cha', 'link': 'https://grantourismotravels.com/cambodian-fried-rice-recipe-bai-cha/', 'snippet': 'Ingredients · 150 g Siem Reap sausages quartered lengthways and sliced · 4 eggs beaten · 80 g carrot diced finely · 80 g french beans diced finely · 3 garlic cloves\\xa0...'}, {'title': 'Easy Egg Fried Rice Recipe - Cambodia Recipe', 'link': 'https://cambodiarecipe.com/recipe/easy-egg-fried-rice-recipe/', 'snippet': 'Jan 6, 2023 ... Directions to make Easy Egg Fried Rice recipe · In a hot wok on medium heat add 3 T of vegetables oil till hot · Add garlic stir fry till brown\\xa0...'}, {'title': 'Chinese Sausage Fried Rice (Lop Cheung Chow Fan): A 20-Minute ...', 'link': 'https://thewoksoflife.com/chinese-sausage-fried-rice/', 'snippet': \"Nov 29, 2018 ... Chinese Sausage Fried Rice or lop cheung chow fan is a quick and easy fried rice recipe that's perfect for a weeknight meal.\"}, {'title': 'Cambodian Fried Rice with Pepper Lime Dressing - Vegan Recipe', 'link': 'https://www.vegkit.com/recipes/freshly-picked-cambodian-fried-rice-pepper-lime-dressing/', 'snippet': \"Now here's dish that will make your tastebuds tingle! It's fresh and spicy, salty and zesty and the lime pepper dressing just might become your new best\\xa0...\"}]\u001b[0m\n",
      "Thought:\u001b[32;1m\u001b[1;3m I need to narrow down the results\n",
      "Action: Google Search Results JSON\n",
      "Action Input: beginner cambodian dish: fried rice recipes limit 5\u001b[0m\n",
      "Observation: \u001b[36;1m\u001b[1;3m[{'title': 'Chinese Sausage Fried Rice (Lap Cheong Fried Rice) - Cooking ...', 'link': 'https://cookingformysoul.com/chinese-sausage-fried-rice/', 'snippet': '... Fried Rice). Published: Sep 3, 2021 · Modified: Feb 5, 2022 by Tania · 4 Comments · This post may contain affiliate links. Jump to Recipe Print Recipe.'}, {'title': 'Pineapple Fried Rice (Thai) | RecipeTin Eats', 'link': 'https://www.recipetineats.com/pineapple-fried-rice-thai/', 'snippet': 'Jun 24, 2020 ... While some recipes use little more than a dash of soy sauce, this is a recipe that stays true to the Thai way and will evoke memories of warm\\xa0...'}, {'title': 'Easy Fried Rice', 'link': 'https://www.chewoutloud.com/chinese-fried-rice-5/', 'snippet': \"Jan 4, 2023 ... Tastier than takeout, this Chinese fried rice recipe is a healthy, customizable dish that's perfect on any night of the week.\"}, {'title': 'Basil Fried Rice - The Foodie Takes Flight', 'link': 'https://thefoodietakesflight.com/basil-fried-rice/', 'snippet': 'Apr 25, 2022 ... I have here another recipe using basil! This is an easy Basil Fried Rice packed with the delicious flavours of basil.'}]\u001b[0m\n",
      "Thought:\u001b[32;1m\u001b[1;3m I now know the final answer\n",
      "Final Answer: 5 beginner-friendly Cambodian fried rice recipes, including Chinese Sausage Fried Rice (Lap Cheong Fried Rice), Pineapple Fried Rice (Thai), Easy Fried Rice, and Basil Fried Rice.\u001b[0m\n",
      "\n",
      "\u001b[1m> Finished chain.\u001b[0m\n"
     ]
    },
    {
     "data": {
      "text/plain": [
       "'5 beginner-friendly Cambodian fried rice recipes, including Chinese Sausage Fried Rice (Lap Cheong Fried Rice), Pineapple Fried Rice (Thai), Easy Fried Rice, and Basil Fried Rice.'"
      ]
     },
     "execution_count": 8,
     "metadata": {},
     "output_type": "execute_result"
    }
   ],
   "source": [
    "recipe_name = \"fried rice\"\n",
    "context = \"beginner cambodian dish\"\n",
    "prompt = f\"Return maximum 5 recipe urls for the following recipe in the context of {context}: {recipe_name}\"\n",
    "agent.run(prompt)"
   ]
  },
  {
   "cell_type": "markdown",
   "id": "377ad5df",
   "metadata": {},
   "source": [
    "### Formatting test for output on app"
   ]
  },
  {
   "cell_type": "code",
   "execution_count": 3,
   "id": "5b983e8b",
   "metadata": {},
   "outputs": [],
   "source": [
    "sample_response_text = \"\"\"\n",
    "{\n",
    "   \"results\":[\n",
    "      {\n",
    "         \"title\":\"Red Beans and Rice\",\n",
    "         \"cuisine\":\"Louisiana Creole\",\n",
    "         \"description\":\"A spicy Cajun dish made with red kidney beans, Andouille sausage, and served over rice. It is a staple dish in New Orleans and is traditionally served on Mondays.\",\n",
    "         \"pronunciation\":\"<loo-ee-zi-ah-nuh kree-ohl>\",\n",
    "         \"original_title\":\"Riz Jaune et Haricots Rouge\"\n",
    "      },\n",
    "      {\n",
    "         \"title\":\"Frijoles Charros\",\n",
    "         \"cuisine\":\"Mexican\",\n",
    "         \"description\":\"A hearty Mexican dish made with kidney beans, bacon, chorizo, and served with a side of corn or flour tortillas. It is a popular dish served at family gatherings and celebrations.\",\n",
    "         \"pronunciation\":\"<free-hoh-lays charr-ohs>\",\n",
    "         \"original_title\":\"Frijoles Charros\"\n",
    "      },\n",
    "      {\n",
    "         \"title\":\"Greek Kidney Bean Salad\",\n",
    "         \"cuisine\":\"Greek\",\n",
    "         \"description\":\"A light and refreshing Greek salad made with kidney beans, feta cheese, and a lemon and olive oil dressing. It is a great side dish for any Greek meal or as a delicious vegetarian main course.\",\n",
    "         \"pronunciation\":\"<greek ki-d-nee been sah-lahd>\",\n",
    "         \"original_title\":\"Σαλάτα Φασολάκια Κοκκινιστά\"\n",
    "      },\n",
    "      {\n",
    "         \"title\":\"Indian Rajma Masala\",\n",
    "         \"cuisine\":\"Indian\",\n",
    "         \"description\":\"A popular North Indian dish made with kidney beans in a spicy tomato-based sauce. It is often served with steamed rice or naan bread and is a staple dish in many Indian households.\",\n",
    "         \"pronunciation\":\"<in-dee-an rahj-mah mah-sah-lah>\",\n",
    "         \"original_title\":\"राजमा मसाला\"\n",
    "      },\n",
    "      {\n",
    "         \"title\":\"Classic Three Bean Salad\",\n",
    "         \"cuisine\":\"no specific cuisine\",\n",
    "         \"description\":\"A colorful and tangy salad made with kidney beans, garbanzo beans, and green beans, tossed in a sweet and sour dressing. It is a popular summer dish for picnics and barbecues.\",\n",
    "         \"pronunciation\":\"<klas-ik three bin sah-lahd>\",\n",
    "         \"original_title\":\"Classic Three Bean Salad\"\n",
    "      }\n",
    "   ]\n",
    "}\"\"\""
   ]
  },
  {
   "cell_type": "code",
   "execution_count": 4,
   "id": "5abe1b2d",
   "metadata": {},
   "outputs": [
    {
     "data": {
      "text/plain": [
       "'\\n{\\n   \"results\":[\\n      {\\n         \"title\":\"Red Beans and Rice\",\\n         \"cuisine\":\"Louisiana Creole\",\\n         \"description\":\"A spicy Cajun dish made with red kidney beans, Andouille sausage, and served over rice. It is a staple dish in New Orleans and is traditionally served on Mondays.\",\\n         \"pronunciation\":\"<loo-ee-zi-ah-nuh kree-ohl>\",\\n         \"original_title\":\"Riz Jaune et Haricots Rouge\"\\n      },\\n      {\\n         \"title\":\"Frijoles Charros\",\\n         \"cuisine\":\"Mexican\",\\n         \"description\":\"A hearty Mexican dish made with kidney beans, bacon, chorizo, and served with a side of corn or flour tortillas. It is a popular dish served at family gatherings and celebrations.\",\\n         \"pronunciation\":\"<free-hoh-lays charr-ohs>\",\\n         \"original_title\":\"Frijoles Charros\"\\n      },\\n      {\\n         \"title\":\"Greek Kidney Bean Salad\",\\n         \"cuisine\":\"Greek\",\\n         \"description\":\"A light and refreshing Greek salad made with kidney beans, feta cheese, and a lemon and olive oil dressing. It is a great side dish for any Greek meal or as a delicious vegetarian main course.\",\\n         \"pronunciation\":\"<greek ki-d-nee been sah-lahd>\",\\n         \"original_title\":\"Σαλάτα Φασολάκια Κοκκινιστά\"\\n      },\\n      {\\n         \"title\":\"Indian Rajma Masala\",\\n         \"cuisine\":\"Indian\",\\n         \"description\":\"A popular North Indian dish made with kidney beans in a spicy tomato-based sauce. It is often served with steamed rice or naan bread and is a staple dish in many Indian households.\",\\n         \"pronunciation\":\"<in-dee-an rahj-mah mah-sah-lah>\",\\n         \"original_title\":\"राजमा मसाला\"\\n      },\\n      {\\n         \"title\":\"Classic Three Bean Salad\",\\n         \"cuisine\":\"no specific cuisine\",\\n         \"description\":\"A colorful and tangy salad made with kidney beans, garbanzo beans, and green beans, tossed in a sweet and sour dressing. It is a popular summer dish for picnics and barbecues.\",\\n         \"pronunciation\":\"<klas-ik three bin sah-lahd>\",\\n         \"original_title\":\"Classic Three Bean Salad\"\\n      }\\n   ]\\n}'"
      ]
     },
     "execution_count": 4,
     "metadata": {},
     "output_type": "execute_result"
    }
   ],
   "source": [
    "sample_response_text"
   ]
  },
  {
   "cell_type": "code",
   "execution_count": 5,
   "id": "87a5a631",
   "metadata": {},
   "outputs": [
    {
     "data": {
      "text/plain": [
       "{'title': 'Red Beans and Rice',\n",
       " 'cuisine': 'Louisiana Creole',\n",
       " 'description': 'A spicy Cajun dish made with red kidney beans, Andouille sausage, and served over rice. It is a staple dish in New Orleans and is traditionally served on Mondays.',\n",
       " 'pronunciation': '<loo-ee-zi-ah-nuh kree-ohl>',\n",
       " 'original_title': 'Riz Jaune et Haricots Rouge'}"
      ]
     },
     "execution_count": 5,
     "metadata": {},
     "output_type": "execute_result"
    }
   ],
   "source": [
    "import json\n",
    "json.loads(sample_response_text)['results'][0]"
   ]
  },
  {
   "cell_type": "code",
   "execution_count": 9,
   "id": "50016c06",
   "metadata": {},
   "outputs": [
    {
     "data": {
      "text/plain": [
       "[{'title': 'Red Beans and Rice',\n",
       "  'cuisine': 'Louisiana Creole',\n",
       "  'description': 'A spicy Cajun dish made with red kidney beans, Andouille sausage, and served over rice. It is a staple dish in New Orleans and is traditionally served on Mondays.',\n",
       "  'pronunciation': '<loo-ee-zi-ah-nuh kree-ohl>',\n",
       "  'original_title': 'Riz Jaune et Haricots Rouge'},\n",
       " {'title': 'Frijoles Charros',\n",
       "  'cuisine': 'Mexican',\n",
       "  'description': 'A hearty Mexican dish made with kidney beans, bacon, chorizo, and served with a side of corn or flour tortillas. It is a popular dish served at family gatherings and celebrations.',\n",
       "  'pronunciation': '<free-hoh-lays charr-ohs>',\n",
       "  'original_title': 'Frijoles Charros'},\n",
       " {'title': 'Greek Kidney Bean Salad',\n",
       "  'cuisine': 'Greek',\n",
       "  'description': 'A light and refreshing Greek salad made with kidney beans, feta cheese, and a lemon and olive oil dressing. It is a great side dish for any Greek meal or as a delicious vegetarian main course.',\n",
       "  'pronunciation': '<greek ki-d-nee been sah-lahd>',\n",
       "  'original_title': 'Σαλάτα Φασολάκια Κοκκινιστά'},\n",
       " {'title': 'Indian Rajma Masala',\n",
       "  'cuisine': 'Indian',\n",
       "  'description': 'A popular North Indian dish made with kidney beans in a spicy tomato-based sauce. It is often served with steamed rice or naan bread and is a staple dish in many Indian households.',\n",
       "  'pronunciation': '<in-dee-an rahj-mah mah-sah-lah>',\n",
       "  'original_title': 'राजमा मसाला'},\n",
       " {'title': 'Classic Three Bean Salad',\n",
       "  'cuisine': 'no specific cuisine',\n",
       "  'description': 'A colorful and tangy salad made with kidney beans, garbanzo beans, and green beans, tossed in a sweet and sour dressing. It is a popular summer dish for picnics and barbecues.',\n",
       "  'pronunciation': '<klas-ik three bin sah-lahd>',\n",
       "  'original_title': 'Classic Three Bean Salad'}]"
      ]
     },
     "execution_count": 9,
     "metadata": {},
     "output_type": "execute_result"
    }
   ],
   "source": [
    "json_sample = json.loads(sample_response_text)\n",
    "json_sample['results']\n"
   ]
  },
  {
   "cell_type": "markdown",
   "id": "3860a11b",
   "metadata": {},
   "source": [
    "### langchain pipeline test"
   ]
  },
  {
   "cell_type": "markdown",
   "id": "a5a589a6",
   "metadata": {},
   "source": [
    "1. get recos based on input\n",
    "2. format in json (for easy info retrieval but also storage for later)\n",
    "3. return results in json output"
   ]
  },
  {
   "cell_type": "code",
   "execution_count": 4,
   "id": "1721d6a6",
   "metadata": {},
   "outputs": [],
   "source": [
    "# 3 components: tool, llm, agent\n",
    "# llm\n",
    "llm = OpenAI(openai_api_key = os.getenv(\"OPENAI_API_KEY\"),\n",
    "            temperature=1.0)\n",
    "# tool\n",
    "tools = load_tools(tool_names=['google-search-results-json','serpapi'], llm=llm)\n",
    "# initialize agent with tools and agent type zero shot\n",
    "agent = initialize_agent(tools=tools,llm=llm,agent=AgentType.ZERO_SHOT_REACT_DESCRIPTION,verbose=True)"
   ]
  },
  {
   "cell_type": "code",
   "execution_count": 6,
   "id": "245819cc",
   "metadata": {},
   "outputs": [
    {
     "name": "stdout",
     "output_type": "stream",
     "text": [
      "\n",
      "\n",
      "\u001b[1m> Entering new AgentExecutor chain...\u001b[0m\n",
      "\u001b[32;1m\u001b[1;3m I need to find a list of recipes that use cilantro and lemongrass.\n",
      "Action: Search\n",
      "Action Input: \"recipes with cilantro and lemongrass\" \u001b[0m\n",
      "Observation: \u001b[33;1m\u001b[1;3mIngredients · 1/2 bunch. fresh cilantro · 1 stalk. lemongrass · 1 (1-inch) piece. fresh ginger · 1 small clove. garlic · 1 tablespoon. rice vinegar.\u001b[0m\n",
      "Thought:\u001b[32;1m\u001b[1;3m I must look for more recipes with cilantro and lemongrass.\n",
      "Action: Search \n",
      "Action Input: \"cilantro lemongrass recipes\"\u001b[0m\n",
      "Observation: \u001b[33;1m\u001b[1;3mIngredients · 1/2 bunch. fresh cilantro · 1 stalk. lemongrass · 1 (1-inch) piece. fresh ginger · 1 small clove. garlic · 1 tablespoon. rice vinegar.\u001b[0m\n",
      "Thought:\u001b[32;1m\u001b[1;3m This search is a bit specific, and I should focus more on the total recipe than the ingredients.\n",
      "Action: Search \n",
      "Action Input: \"cilantro lemongrass recipes\" with individual dish names\u001b[0m\n",
      "Observation: \u001b[33;1m\u001b[1;3mList includes: Ayam goreng, Nasi uduk, Nasi liwet, Sate lilit, ... with chopped lemongrass stalks, shallots, kaffir lime leaves, cilantro, ...\u001b[0m\n",
      "Thought:\u001b[32;1m\u001b[1;3m I can now include more dishes to the recommended recipes.\n",
      "Action: Google Search Results JSON\n",
      "Action Input: \"Ayam goreng recipe\"\u001b[0m\n",
      "Observation: \u001b[36;1m\u001b[1;3m[{'title': 'Ayam Goreng (Malaysian Fried Chicken) | RecipeTin Eats', 'link': 'https://www.recipetineats.com/ayam-goreng-malaysian-fried-chicken/', 'snippet': 'Jul 30, 2021 ... Ayam Goreng Curry Paste: ; 3 garlic cloves , roughly chopped ; 1 tbsp ginger , roughly chopped ; 1 tbsp galangal , roughly chopped (Note 2) ; 1 1/2\\xa0...'}, {'title': 'Indonesian Fried Chicken - Ayam Goreng - Much Butter', 'link': 'https://muchbutter.com/indonesian-fried-chicken-ayam-goreng/', 'snippet': 'Nov 16, 2019 ... How to make Indonesian fried chicken – ayam goreng: ... Grind shallots, garlic, galangal, turmeric and ginger with pestle and mortar or spice\\xa0...'}, {'title': \"Malaysian Fried Chicken (Ayam Goreng) | Marion's Kitchen\", 'link': 'https://www.marionskitchen.com/ayam-goreng-malaysian-fried-chicken/', 'snippet': '1 tsp fennel seeds · 1 tsp coriander seeds · 1 tsp cumin seeds · 3 red shallots, peeled, coarsely chopped · 4 garlic cloves, peeled, coarsely chopped · 4cm piece\\xa0...'}, {'title': 'Crispy Ayam Goreng Rempah | Malay Spiced Crispy Fried Chicken ...', 'link': 'https://nomadette.com/ayam-goreng/', 'snippet': 'Oct 25, 2021 ... Ingredients · 800g Chicken Parts · 1/4 cup Rice Flour or Corn Flour · Canola Oil or any high smoke point cooking oil to deep fry chicken · Blend\\xa0...'}]\u001b[0m\n",
      "Thought:\u001b[32;1m\u001b[1;3m I now know what recipes to recommend. \n",
      "Final Answer: {'results': [\n",
      "{'title': 'Ayam Goreng (Malaysian Fried Chicken) | RecipeTin Eats', 'cuisine': 'no specific cuisine', 'description': 'Fried chicken marinated with shallots, garlic, galangal, turmeric, ginger, and lemongrass. Commonly served with white rice.'},\n",
      "{'title': 'Indonesian Fried Chicken - Ayam Goreng - Much Butter', 'cuisine': 'no specific cuisine', 'description': 'Fried Chicken marinated and cooked with a combination of shallots, garlic, galangal, turmeric, ginger, and lemongrass.'}, \n",
      "{'title': \"Malaysian Fried Chicken (Ayam Goreng) | Marion's Kitchen\", 'cuisine': 'no specific cuisine', 'description': 'Fried chicken marinated with fennel, coriander, cumin seeds, red shallots, garlic, and ginger with lemongrass.'},\n",
      "{'title': 'Crispy Ayam Goreng Rempah | Malay Spiced Crispy Fried Chicken ...', 'cuisine': 'no\u001b[0m\n",
      "\n",
      "\u001b[1m> Finished chain.\u001b[0m\n"
     ]
    },
    {
     "data": {
      "text/plain": [
       "'{\\'results\\': [\\n{\\'title\\': \\'Ayam Goreng (Malaysian Fried Chicken) | RecipeTin Eats\\', \\'cuisine\\': \\'no specific cuisine\\', \\'description\\': \\'Fried chicken marinated with shallots, garlic, galangal, turmeric, ginger, and lemongrass. Commonly served with white rice.\\'},\\n{\\'title\\': \\'Indonesian Fried Chicken - Ayam Goreng - Much Butter\\', \\'cuisine\\': \\'no specific cuisine\\', \\'description\\': \\'Fried Chicken marinated and cooked with a combination of shallots, garlic, galangal, turmeric, ginger, and lemongrass.\\'}, \\n{\\'title\\': \"Malaysian Fried Chicken (Ayam Goreng) | Marion\\'s Kitchen\", \\'cuisine\\': \\'no specific cuisine\\', \\'description\\': \\'Fried chicken marinated with fennel, coriander, cumin seeds, red shallots, garlic, and ginger with lemongrass.\\'},\\n{\\'title\\': \\'Crispy Ayam Goreng Rempah | Malay Spiced Crispy Fried Chicken ...\\', \\'cuisine\\': \\'no'"
      ]
     },
     "execution_count": 6,
     "metadata": {},
     "output_type": "execute_result"
    }
   ],
   "source": [
    "# get recos\n",
    "# structure in json format\n",
    "prompt = \"\"\"\n",
    "You are a recipe recommendation engine. Your task is to give at most 5 recipes that involves one or more ingredient given by the user as a JSON format. Return the name of the recipe, type of cuisine if it exists, and a brief description of the dish. If the dish is from a particular cuisine, also include the original language name and english pronunciation of the name. If recipe is not from a specific cuisine, give back 'no specific cuisine' as cuisine type. For description, keep it concise and include things like type of dish, other main ingredients, short description of the dish, and how the dish is typically enjoyed. Format the output in the following JSON schema:\n",
    "{'results': [\n",
    "{'title': <recipe title> (original language title and english pronunciation),'cuisine': <cuisine type>,'description':<description>},...\n",
    "]} \n",
    "Do not make up new keys or values.\n",
    "ingredients: cilantro, lemongrass\n",
    "\"\"\"\n",
    "agent.run(prompt)"
   ]
  },
  {
   "cell_type": "code",
   "execution_count": 8,
   "id": "78e91f5d",
   "metadata": {},
   "outputs": [
    {
     "name": "stdout",
     "output_type": "stream",
     "text": [
      "\n",
      "\n",
      "\u001b[1m> Entering new AgentExecutor chain...\u001b[0m\n",
      "\u001b[32;1m\u001b[1;3m What dish recipes could involve cilantro and lemongrass?\n",
      "Action: Google Search Results JSON\n",
      "Action Input: \"dishes with cilantro and lemongrass\"\u001b[0m\n",
      "Observation: \u001b[36;1m\u001b[1;3m[{'title': 'Lemongrass Cilantro Chicken - Rasa Malaysia', 'link': 'https://rasamalaysia.com/lemongrass-cilantro-chicken/', 'snippet': 'Sep 25, 2012 ... A few months ago, when my copy of Food & Wine Annual Cookbook 2012 arrived, the lemongrass cilantro chicken recipe immediately caught my\\xa0...'}, {'title': 'Lemongrass-Cilantro Chicken with Honey Dipping Sauce Recipe ...', 'link': 'https://www.foodandwine.com/recipes/lemongrass-cilantro-chicken-honey-dipping-sauce', 'snippet': 'Jun 27, 2019 ... 2 large stalks of fresh lemongrass (cut into 1-inch pieces) · 1 packed cup chopped cilantro · 4 large shallots (coarsely chopped) · ½ cup vegetable\\xa0...'}, {'title': 'Lemongrass Cilantro Sauce Recipe | Kitchn', 'link': 'https://www.thekitchn.com/lemongrass-cilantro-sauce-recipe-23185188', 'snippet': 'Jul 13, 2021 ... Ingredients · 1/2 bunch. fresh cilantro · 1 stalk. lemongrass · 1 (1-inch) piece. fresh ginger · 1 small clove. garlic · 1 tablespoon. rice vinegar.'}, {'title': 'Grilled Vietnamese Lemongrass Cilantro Chicken Recipe ...', 'link': 'https://jeanetteshealthyliving.com/grilled-vietnamese-lemongrass-cilantro-chicken/', 'snippet': 'Aug 7, 2019 ... Grilled Vietnamese Lemongrass Cilantro Chicken - the marinade in this recipe is amazing! Delicious in salads, summer rolls, sandwiches or as\\xa0...'}]\u001b[0m\n",
      "Thought:\u001b[32;1m\u001b[1;3m I can use the search result titles, cuisines, and descriptions to come up with an answer.\n",
      "Action: Determine cuisines and descriptions\n",
      "Action Input: search result titles\u001b[0m\n",
      "Observation: Determine cuisines and descriptions is not a valid tool, try another one.\n",
      "Thought:\u001b[32;1m\u001b[1;3m I can review the search results and use the titles and snippets to determine cuisine and description.\n",
      "Action: Examine search results\n",
      "Action Input: search results\u001b[0m\n",
      "Observation: Examine search results is not a valid tool, try another one.\n",
      "Thought:\u001b[32;1m\u001b[1;3m I can review the search results and use the titles and snippets to determine cuisine and description, then formulate the output JSON schema.\n",
      "Action: Parse search results\n",
      "Action Input: search results\u001b[0m\n",
      "Observation: Parse search results is not a valid tool, try another one.\n",
      "Thought:\u001b[32;1m\u001b[1;3m I can review the search results and use the titles and snippets to determine cuisine and description, then manually create the output JSON schema.\n",
      "Action: Construct output JSON\n",
      "Action Input: search results\u001b[0m\n",
      "Observation: Construct output JSON is not a valid tool, try another one.\n",
      "Thought:\u001b[32;1m\u001b[1;3m I can review the search results and use the titles and snippets to determine cuisine and description, then manually formulate the output JSON schema.\n",
      "Action: Compose output JSON\n",
      "Action Input: search results\u001b[0m\n",
      "Observation: Compose output JSON is not a valid tool, try another one.\n",
      "Thought:\u001b[32;1m\u001b[1;3m I can review the search results and use the titles and snippets to determine cuisine and description, then manually craft the output JSON schema.\n",
      "Action: Assemble output JSON\n",
      "Action Input: search results\u001b[0m\n",
      "Observation: Assemble output JSON is not a valid tool, try another one.\n",
      "Thought:\u001b[32;1m\u001b[1;3m I can review the search results and use the titles and snippets to determine cuisine and description, then create the output JSON schema manually .\n",
      "Action: Generate output JSON\n",
      "Action Input: search results\u001b[0m\n",
      "Observation: Generate output JSON is not a valid tool, try another one.\n",
      "Thought:\u001b[32;1m\u001b[1;3m I can review the search results and use the titles and snippets to determine cuisine and description, then manually formulate the output JSON schema.\n",
      "Action: Format output JSON\n",
      "Action Input: search results\u001b[0m\n",
      "Observation: Format output JSON is not a valid tool, try another one.\n",
      "Thought:\u001b[32;1m\u001b[1;3m I can review the search results and use the titles and snippets to determine cuisine and description, then manually produce the output JSON schema.\n",
      "Action: Build output JSON\n",
      "Action Input: search results\u001b[0m\n",
      "Observation: Build output JSON is not a valid tool, try another one.\n",
      "Thought:\u001b[32;1m\u001b[1;3m I can review the search results and use the titles and snippets to determine cuisine and description, then manually construct the output JSON schema.\n",
      "Action: Compile output JSON\n",
      "Action Input: search results\u001b[0m\n",
      "Observation: Compile output JSON is not a valid tool, try another one.\n",
      "Thought:\u001b[32;1m\u001b[1;3m I can review the search results and use the titles and snippets to determine cuisine and description, then manually develop the output JSON schema.\n",
      "Action: Construct output JSON\n",
      "Action Input: search results\u001b[0m\n",
      "Observation: Construct output JSON is not a valid tool, try another one.\n",
      "Thought:\u001b[32;1m\u001b[1;3m I can review the search results and use the titles and snippets to determine cuisine and description, then manually create the output JSON schema.\n",
      "Action: Create output JSON\n",
      "Action Input: search results\u001b[0m\n",
      "Observation: Create output JSON is not a valid tool, try another one.\n",
      "Thought:\u001b[32;1m\u001b[1;3m I can review the search results and use the titles and snippets to determine cuisine and description, then manually assemble the output JSON schema.\n",
      "Action: Assemble output JSON\n",
      "Action Input: search results\u001b[0m\n",
      "Observation: Assemble output JSON is not a valid tool, try another one.\n",
      "Thought:\u001b[32;1m\u001b[1;3m I can review the search results and use the titles and snippets to determine cuisine and description, then manually generate the output JSON schema.\n",
      "Action: Generate output JSON\n",
      "Action Input: search results\u001b[0m\n",
      "Observation: Generate output JSON is not a valid tool, try another one.\n",
      "Thought:\u001b[32;1m\u001b[1;3m\u001b[0m\n",
      "\n",
      "\u001b[1m> Finished chain.\u001b[0m\n"
     ]
    },
    {
     "data": {
      "text/plain": [
       "'Agent stopped due to iteration limit or time limit.'"
      ]
     },
     "execution_count": 8,
     "metadata": {},
     "output_type": "execute_result"
    }
   ],
   "source": [
    "# get recos\n",
    "# structure in json format\n",
    "prompt = \"\"\"\n",
    "You are a recipe recommendation engine. Your task is to give at most 5 different dish names that involves ingredients given by the user as a JSON format. Return the name of the dish, type of cuisine if it exists, and a brief description of the dish. If the dish is from a particular cuisine, also include the original language name and english pronunciation of the name. If it is not from a specific cuisine, give back 'no specific cuisine' as cuisine type. For description, keep it concise and include things like type of dish, other main ingredients, short description of the dish, and how the dish is typically enjoyed. Format the output in the following JSON schema:\n",
    "{'results': [\n",
    "{'title': <recipe title> (original language title and english pronunciation),'cuisine': <cuisine type>,'description':<description>},...\n",
    "]} \n",
    "Do not make up new keys or values.\n",
    "ingredients: cilantro, lemongrass\n",
    "\"\"\"\n",
    "agent.run(prompt)"
   ]
  },
  {
   "cell_type": "code",
   "execution_count": 24,
   "id": "7f9dd93a",
   "metadata": {},
   "outputs": [],
   "source": [
    "# using sequential chain instead to get 2 chains\n",
    "# my primary concern is the added cost since ouput of step 1 (reco)\n",
    "# will be rather large in terms of token...\n",
    "from langchain.llms import OpenAI\n",
    "from langchain.chains import LLMChain, SimpleSequentialChain\n",
    "from langchain.prompts import PromptTemplate\n",
    "\n",
    "# recipe recommendation chain\n",
    "llm_reco = OpenAI(temperature=1.0, max_tokens=1000)\n",
    "reco_template = \"\"\"Your task is to give at most 5 dish that involves the ingredients given by the user. Return the name of the dish in English translation, original language, english pronunciation. Also return type of cuisine, and a brief description of the dish. For description, keep it concise and include things like type of dish, other main ingredients, short description of the dish, and how the dish is typically enjoyed.\n",
    "ingredients: {ingredients}\"\"\"\n",
    "reco_prompt_template = PromptTemplate(input_variables=['ingredients'],template=reco_template)\n",
    "reco_chain = LLMChain(llm=llm_reco,prompt=reco_prompt_template)\n",
    "\n",
    "# json parsing chain\n",
    "# not using the output parser for now\n",
    "llm_parser = OpenAI(temperature=0.0, max_tokens=1000)\n",
    "parser_template = \"\"\"Given a list of recipes, format it as a list of JSON documents with the following key value schema:\n",
    "title: \n",
    "    english_translation: <english translation of recipe title>\n",
    "    original_language: <original language title>\n",
    "    english_pronunciation: <english pronunciation of original language>\n",
    "cuisine: <cuisine type>\n",
    "description': <description>\n",
    "Do not make up new keys or values. Only use information given in the input list.\n",
    "input: {recipe_list}\"\"\"\n",
    "parser_prompt_template = PromptTemplate(input_variables=['recipe_list'],template=parser_template)\n",
    "parser_chain = LLMChain(llm=llm_parser,prompt=parser_prompt_template)\n",
    "\n",
    "\n",
    "# sequential chain\n",
    "reco_parsed_result_chain = SimpleSequentialChain(\n",
    "    chains=[reco_chain,parser_chain],\n",
    "    verbose=True\n",
    ")"
   ]
  },
  {
   "cell_type": "code",
   "execution_count": 25,
   "id": "700e78b0",
   "metadata": {},
   "outputs": [
    {
     "name": "stdout",
     "output_type": "stream",
     "text": [
      "\n",
      "\n",
      "\u001b[1m> Entering new SimpleSequentialChain chain...\u001b[0m\n",
      "\u001b[36;1m\u001b[1;3m\n",
      "\n",
      "1. Tom Kha Gai (Thaland): Tom Kha Gai is a soup made with cilantro and lemongrass, coconut milk, and chicken. It is a popular Thai dish that is usually enjoyed with steamed rice.\n",
      "2. Bún Thịt Nướng (Vietnam): Bún Thịt Nướng is a Vietnamese noodle dish that includes cilantro, lemongrass, pork or other meat, and is topped with peanuts and chives. It is often served with a fish sauce-based dipping sauce.\n",
      "3. Asian-Style Grilled Chicken (International): This dish combines cilantro and lemongrass with garlic, ginger, and other spices to create a flavorful marinade for chicken. The chicken is grilled or pan-fried until cooked through, and then served with steamed rice, vegetables, or a salad.\n",
      "4. Pad Thai (Thailand): Pad Thai is a Thai dish that includes cilantro, lemongrass, rice noodles, shrimp, and other ingredients. The noodles are stir-fried with chillies and a sweet and sour sauce and then topped with crushed peanuts, bean sprouts and lime.\n",
      "5. Lemongrass Coconut Rice (International): This dish is made with jasmine rice cooked in a coconut broth and lemongrass. It is topped with cilantro and other optional garnishes like green onion, chilli, and roasted peanuts. It is typically served as a side dish with grilled or steamed fish or vegetables.\u001b[0m\n",
      "\u001b[33;1m\u001b[1;3m\n",
      "\n",
      "Answer: \n",
      "[\n",
      "    {\n",
      "        \"title\": {\n",
      "            \"english_translation\": \"Tom Kha Gai\",\n",
      "            \"original_language\": \"Thaland\",\n",
      "            \"english_pronunciation\": \"\"\n",
      "        },\n",
      "        \"cuisine\": \"Thai\",\n",
      "        \"description\": \"Tom Kha Gai is a soup made with cilantro and lemongrass, coconut milk, and chicken. It is a popular Thai dish that is usually enjoyed with steamed rice.\"\n",
      "    },\n",
      "    {\n",
      "        \"title\": {\n",
      "            \"english_translation\": \"Bún Thịt Nướng\",\n",
      "            \"original_language\": \"Vietnam\",\n",
      "            \"english_pronunciation\": \"\"\n",
      "        },\n",
      "        \"cuisine\": \"Vietnamese\",\n",
      "        \"description\": \"Bún Thịt Nướng is a Vietnamese noodle dish that includes cilantro, lemongrass, pork or other meat, and is topped with peanuts and chives. It is often served with a fish sauce-based dipping sauce.\"\n",
      "    },\n",
      "    {\n",
      "        \"title\": {\n",
      "            \"english_translation\": \"Asian-Style Grilled Chicken\",\n",
      "            \"original_language\": \"International\",\n",
      "            \"english_pronunciation\": \"\"\n",
      "        },\n",
      "        \"cuisine\": \"International\",\n",
      "        \"description\": \"This dish combines cilantro and lemongrass with garlic, ginger, and other spices to create a flavorful marinade for chicken. The chicken is grilled or pan-fried until cooked through, and then served with steamed rice, vegetables, or a salad.\"\n",
      "    },\n",
      "    {\n",
      "        \"title\": {\n",
      "            \"english_translation\": \"Pad Thai\",\n",
      "            \"original_language\": \"Thailand\",\n",
      "            \"english_pronunciation\": \"\"\n",
      "        },\n",
      "        \"cuisine\": \"Thai\",\n",
      "        \"description\": \"Pad Thai is a Thai dish that includes cilantro, lemongrass, rice noodles, shrimp, and other ingredients. The noodles are stir-fried with chillies and a sweet and sour sauce and then topped with crushed peanuts, bean sprouts and lime.\"\n",
      "    },\n",
      "    {\n",
      "        \"title\": {\n",
      "            \"english_translation\": \"Lemongrass Coconut Rice\",\n",
      "            \"original_language\": \"International\",\n",
      "            \"english_pronunciation\": \"\"\n",
      "        },\n",
      "        \"cuisine\": \"International\",\n",
      "        \"description\": \"This dish is made with jasmine rice cooked in a coconut broth and lemongrass. It is topped with cilantro and other optional garnishes like green onion, chilli, and roasted peanuts. It is typically served as a side dish with grilled or steamed fish or vegetables.\"\n",
      "    }\n",
      "]\u001b[0m\n",
      "\n",
      "\u001b[1m> Finished chain.\u001b[0m\n"
     ]
    },
    {
     "data": {
      "text/plain": [
       "'\\n\\nAnswer: \\n[\\n    {\\n        \"title\": {\\n            \"english_translation\": \"Tom Kha Gai\",\\n            \"original_language\": \"Thaland\",\\n            \"english_pronunciation\": \"\"\\n        },\\n        \"cuisine\": \"Thai\",\\n        \"description\": \"Tom Kha Gai is a soup made with cilantro and lemongrass, coconut milk, and chicken. It is a popular Thai dish that is usually enjoyed with steamed rice.\"\\n    },\\n    {\\n        \"title\": {\\n            \"english_translation\": \"Bún Thịt Nướng\",\\n            \"original_language\": \"Vietnam\",\\n            \"english_pronunciation\": \"\"\\n        },\\n        \"cuisine\": \"Vietnamese\",\\n        \"description\": \"Bún Thịt Nướng is a Vietnamese noodle dish that includes cilantro, lemongrass, pork or other meat, and is topped with peanuts and chives. It is often served with a fish sauce-based dipping sauce.\"\\n    },\\n    {\\n        \"title\": {\\n            \"english_translation\": \"Asian-Style Grilled Chicken\",\\n            \"original_language\": \"International\",\\n            \"english_pronunciation\": \"\"\\n        },\\n        \"cuisine\": \"International\",\\n        \"description\": \"This dish combines cilantro and lemongrass with garlic, ginger, and other spices to create a flavorful marinade for chicken. The chicken is grilled or pan-fried until cooked through, and then served with steamed rice, vegetables, or a salad.\"\\n    },\\n    {\\n        \"title\": {\\n            \"english_translation\": \"Pad Thai\",\\n            \"original_language\": \"Thailand\",\\n            \"english_pronunciation\": \"\"\\n        },\\n        \"cuisine\": \"Thai\",\\n        \"description\": \"Pad Thai is a Thai dish that includes cilantro, lemongrass, rice noodles, shrimp, and other ingredients. The noodles are stir-fried with chillies and a sweet and sour sauce and then topped with crushed peanuts, bean sprouts and lime.\"\\n    },\\n    {\\n        \"title\": {\\n            \"english_translation\": \"Lemongrass Coconut Rice\",\\n            \"original_language\": \"International\",\\n            \"english_pronunciation\": \"\"\\n        },\\n        \"cuisine\": \"International\",\\n        \"description\": \"This dish is made with jasmine rice cooked in a coconut broth and lemongrass. It is topped with cilantro and other optional garnishes like green onion, chilli, and roasted peanuts. It is typically served as a side dish with grilled or steamed fish or vegetables.\"\\n    }\\n]'"
      ]
     },
     "execution_count": 25,
     "metadata": {},
     "output_type": "execute_result"
    }
   ],
   "source": [
    "reco_parsed_result_chain.run(\"cilantro, lemongrass\")"
   ]
  },
  {
   "cell_type": "code",
   "execution_count": 26,
   "id": "b1a8c892",
   "metadata": {},
   "outputs": [],
   "source": [
    "# using optimized prompt from promptperfect to test'\n",
    "from langchain.llms import OpenAI\n",
    "from langchain.chains import LLMChain, SimpleSequentialChain\n",
    "from langchain.prompts import PromptTemplate\n",
    "\n",
    "# recipe recommendation chain\n",
    "llm_reco = OpenAI(temperature=1.0, max_tokens=1000)\n",
    "reco_template = \"\"\"Your task is to create 5 different dishes using the ingredients provided by the user. For each dish, please provide the English translation and original language name, as well as the pronunciation of the name in English. In addition, please specify the type of cuisine and provide a brief description of the dish, including its main ingredients and how it is typically enjoyed.\n",
    "When selecting the ingredients, keep in mind that they must all be used in each dish. The dishes can be from any type of cuisine, including but not limited to Italian, Mexican, Chinese, Indian, or French.\n",
    "Please ensure that your descriptions are clear and concise, highlighting the most important details about each dish that would be helpful for someone looking to prepare or try the dish. Additionally, your descriptions should be engaging and creative, encouraging the user to want to try each dish.\n",
    "ingredients: {ingredients}\"\"\"\n",
    "reco_prompt_template = PromptTemplate(input_variables=['ingredients'],template=reco_template)\n",
    "reco_chain = LLMChain(llm=llm_reco,prompt=reco_prompt_template)\n",
    "\n",
    "# json parsing chain\n",
    "# not using the output parser for now\n",
    "llm_parser = OpenAI(temperature=0.0, max_tokens=1000)\n",
    "parser_template = \"\"\"Your task is to format a list of recipes into a list of JSON documents according to the following key-value schema:\n",
    "\"title\":\n",
    "    \"english_translation\": \"English translation of recipe title\",\n",
    "    \"original_language\": \"Original language title\",\n",
    "    \"english_pronunciation\": \"English pronunciation of original language\"\n",
    "\"cuisine\": \"Cuisine type\"\n",
    "\"description\": \"Description\"\n",
    "Please ensure that you use only the information given in the input list and do not create new keys or values. For each recipe, provide an English translation of the recipe title, the original language title, and the English pronunciation of the original language title under the \"title\" key. Under the \"cuisine\" key, provide the cuisine type of the recipe, and under the \"description\" key, provide a description of the recipe.\n",
    "Your response should be a list of JSON documents, each containing the above key-value schema for a single recipe. Please separate each JSON document with a comma. If necessary, use appropriate data types to represent the values in the JSON document.\n",
    "Please note that the optimized prompt provides clear and specific instructions on how to format the list of recipes into JSON documents. It also emphasizes the importance of using only the information given in the input list and not creating new keys or values. The optimized prompt also provides a detailed example of the key-value schema, which makes it easier for the user to understand how to structure the response.\n",
    "input: {recipe_list}\"\"\"\n",
    "parser_prompt_template = PromptTemplate(input_variables=['recipe_list'],template=parser_template)\n",
    "parser_chain = LLMChain(llm=llm_parser,prompt=parser_prompt_template)\n",
    "\n",
    "\n",
    "# sequential chain\n",
    "reco_parsed_result_chain = SimpleSequentialChain(\n",
    "    chains=[reco_chain,parser_chain],\n",
    "    verbose=True\n",
    ")\n"
   ]
  },
  {
   "cell_type": "code",
   "execution_count": 27,
   "id": "df172522",
   "metadata": {},
   "outputs": [
    {
     "name": "stdout",
     "output_type": "stream",
     "text": [
      "\n",
      "\n",
      "\u001b[1m> Entering new SimpleSequentialChain chain...\u001b[0m\n",
      "\u001b[36;1m\u001b[1;3m, avocado, lime, jalapeño \n",
      "\n",
      "1. Cilantro-Lemongrass Guacamole - English translation, with the original language of Spanish being “Guacamole de Cilantro y Lemongrass”, pronounced “Gwah-kah-moh-lay day see-lan-troh ee leh-mohn-grass”. This dish is of Mexican cuisine and is one of the lightest and most refreshing types of guacamole. This dish is made by mashing up the avocadoes and mixing with the chopped cilantro and lemongrass, then adding in the jalapeño and the juice of a lime. This guacamole is enjoyed on its own with chips, as a topping for tacos, or to spice up sandwiches. \n",
      "\n",
      "2. Lemongrass-Cilantro Sautéed Vegetables - English translation, with the original language of Spanish being “Verduras Salteadas de Cilantro y Lemongrass”, pronounced “Behr-doo-rahs Sah-leh-teh-ah-dahhs day see-lan-troh ee leh-mohn-grass”. This dish is of Chinese cuisine that combines the fresh, citrusy flavors of lemongrass and cilantro with the delicate texture and delicious crunch of the vegetables. This dish is made by sautéing curly kale, broccoli, and carrots with the lemongrass and cilantro. It is seasoned with salt and pepper and the jalapeño and lime juice is added in at the end to give it a nice zesty flavor. This dish is typically enjoyed as a side for Asian dishes. \n",
      "\n",
      "3. Cilantro-Lime Infused Fajitas - English translation, with the original language of Spanish being “Fajitas Infundidas de Cilantro y Limón”, pronounced “Fah-hee-tahs Een-foohn-dee-dahhs day see-lan-troh ee lee-mohn”. This dish is of Tex-Mex cuisine using the bold flavor of jalapeño and fresh cilantro to create an addicting and irresistible flavor. This dish is made by marinating chicken and bell peppers in the jalapeño, lime juice, and cilantro. The chicken and vegetables are then cooked in a skillet until lightly charred, then served with the lemongrass and topped with a dollop of guacamole. Fajitas are typically enjoyed as a meal on their own, loaded into tacos, or as an appetizer with chips. \n",
      "\n",
      "4. Lemon-Cilantro White Rice - English translation, with the original language of Spanish being “Arroz Blanco de Limón y Cilantro”, pronounced “Ah-rohs Blah-nah-koh day lee-mohn ee see-lan-troh.” This dish is of Indian cuisine and provides the perfect balance of flavor and texture in every bite. This dish is made by cooking basmati rice with jalapeño, lemongrass, and cilantro. The rice is then seasoned with salt and pepper, and finished off with a squeeze of lime juice. This dish is typically enjoyed as a side to curries or stews.\n",
      "\n",
      "5. Creamy Cilantro-Lime Soup - English translation, with the original language of Spanish being “Sopa cremosa de Cilantro y Limón”, pronounced “Soh-pah kreh-moh-sah day see-lan-troh ee lee-mohn.” This dish is of Italian cuisine and combines the robust flavors of cilantro, lemongrass, and jalapeño to create a unique and refreshing soup. This dish is made by simmering the jalapeno in a stock and then combining with the cream, cilantro, and lemongrass. Finishing touches like vegetables, lime juice, and salt and pepper can be added to make this dish even more flavorful. This soup is typically enjoyed as a starter or a light meal.\u001b[0m\n",
      "\u001b[33;1m\u001b[1;3m\n",
      "\n",
      "[\n",
      "  {\n",
      "    \"title\": {\n",
      "      \"english_translation\": \"Cilantro-Lemongrass Guacamole\",\n",
      "      \"original_language\": \"Guacamole de Cilantro y Lemongrass\",\n",
      "      \"english_pronunciation\": \"Gwah-kah-moh-lay day see-lan-troh ee leh-mohn-grass\"\n",
      "    },\n",
      "    \"cuisine\": \"Mexican\",\n",
      "    \"description\": \"One of the lightest and most refreshing types of guacamole. This dish is made by mashing up the avocadoes and mixing with the chopped cilantro and lemongrass, then adding in the jalapeño and the juice of a lime. This guacamole is enjoyed on its own with chips, as a topping for tacos, or to spice up sandwiches.\"\n",
      "  },\n",
      "  {\n",
      "    \"title\": {\n",
      "      \"english_translation\": \"Lemongrass-Cilantro Sautéed Vegetables\",\n",
      "      \"original_language\": \"Verduras Salteadas de Cilantro y Lemongrass\",\n",
      "      \"english_pronunciation\": \"Behr-doo-rahs Sah-leh-teh-ah-dahhs day see-lan-troh ee leh-mohn-grass\"\n",
      "    },\n",
      "    \"cuisine\": \"Chinese\",\n",
      "    \"description\": \"Combines the fresh, citrusy flavors of lemongrass and cilantro with the delicate texture and delicious crunch of the vegetables. This dish is made by sautéing curly kale, broccoli, and carrots with the lemongrass and cilantro. It is seasoned with salt and pepper and the jalapeño and lime juice is added in at the end to give it a nice zesty flavor. This dish is typically enjoyed as a side for Asian dishes.\"\n",
      "  },\n",
      "  {\n",
      "    \"title\": {\n",
      "      \"english_translation\": \"Cilantro-Lime Infused Fajitas\",\n",
      "      \"original_language\": \"Fajitas Infundidas de Cilantro y Limón\",\n",
      "      \"english_pronunciation\": \"Fah-hee-tahs Een-foohn-dee-dahhs day see-lan-troh ee lee-mohn\"\n",
      "    },\n",
      "    \"cuisine\": \"Tex-Mex\",\n",
      "    \"description\": \"Using the bold flavor of jalapeño and fresh cilantro to create an addicting and irresistible flavor. This dish is made by marinating chicken and bell peppers in the jalapeño, lime juice, and cilantro. The chicken and vegetables are then cooked in a skillet until lightly charred, then served with the lemongrass and topped with a dollop of guacamole. Fajitas are typically enjoyed as a meal on their own, loaded into tacos, or as an appetizer with chips.\"\n",
      "  },\n",
      "  {\n",
      "    \"title\": {\n",
      "      \"english_translation\": \"Lemon-Cilantro White Rice\",\n",
      "      \"original_language\": \"Arroz Blanco de Limón y Cilantro\",\n",
      "      \"english_pronunciation\": \"Ah-rohs Blah-nah-koh day lee-mohn ee see-lan-troh\"\n",
      "    },\n",
      "    \"cuisine\": \"Indian\",\n",
      "    \"description\": \"Provides the perfect balance of flavor and texture in every bite. This dish is made by cooking basmati rice with jalapeño, lemongrass, and cilantro. The rice is then seasoned with salt and pepper, and finished off with a squeeze of lime juice. This dish is typically enjoyed as a side to curries or stews.\"\n",
      "  },\n",
      "  {\n",
      "    \"title\": {\n",
      "      \"english_translation\": \"Creamy Cilantro-Lime Soup\",\n",
      "      \"original_language\": \"Sopa cremosa de Cilantro y Limón\",\n",
      "      \"english_pronunciation\": \"Soh-pah kreh-moh-sah day see-lan-troh ee lee-mohn\"\n",
      "    },\n",
      "    \"cuisine\": \"Italian\",\n",
      "    \"description\": \"Combines the robust flavors of cilantro, lemongrass, and jalapeño to create a unique and refreshing soup. This dish is made by simmering the jalapeno in a stock and then combining with the cream, cilantro, and lemongrass. Finishing touches like vegetables, lime juice, and salt and pepper can be added to make this dish even more flavorful. This soup is typically enjoyed as a starter or\u001b[0m\n",
      "\n",
      "\u001b[1m> Finished chain.\u001b[0m\n"
     ]
    },
    {
     "data": {
      "text/plain": [
       "'\\n\\n[\\n  {\\n    \"title\": {\\n      \"english_translation\": \"Cilantro-Lemongrass Guacamole\",\\n      \"original_language\": \"Guacamole de Cilantro y Lemongrass\",\\n      \"english_pronunciation\": \"Gwah-kah-moh-lay day see-lan-troh ee leh-mohn-grass\"\\n    },\\n    \"cuisine\": \"Mexican\",\\n    \"description\": \"One of the lightest and most refreshing types of guacamole. This dish is made by mashing up the avocadoes and mixing with the chopped cilantro and lemongrass, then adding in the jalapeño and the juice of a lime. This guacamole is enjoyed on its own with chips, as a topping for tacos, or to spice up sandwiches.\"\\n  },\\n  {\\n    \"title\": {\\n      \"english_translation\": \"Lemongrass-Cilantro Sautéed Vegetables\",\\n      \"original_language\": \"Verduras Salteadas de Cilantro y Lemongrass\",\\n      \"english_pronunciation\": \"Behr-doo-rahs Sah-leh-teh-ah-dahhs day see-lan-troh ee leh-mohn-grass\"\\n    },\\n    \"cuisine\": \"Chinese\",\\n    \"description\": \"Combines the fresh, citrusy flavors of lemongrass and cilantro with the delicate texture and delicious crunch of the vegetables. This dish is made by sautéing curly kale, broccoli, and carrots with the lemongrass and cilantro. It is seasoned with salt and pepper and the jalapeño and lime juice is added in at the end to give it a nice zesty flavor. This dish is typically enjoyed as a side for Asian dishes.\"\\n  },\\n  {\\n    \"title\": {\\n      \"english_translation\": \"Cilantro-Lime Infused Fajitas\",\\n      \"original_language\": \"Fajitas Infundidas de Cilantro y Limón\",\\n      \"english_pronunciation\": \"Fah-hee-tahs Een-foohn-dee-dahhs day see-lan-troh ee lee-mohn\"\\n    },\\n    \"cuisine\": \"Tex-Mex\",\\n    \"description\": \"Using the bold flavor of jalapeño and fresh cilantro to create an addicting and irresistible flavor. This dish is made by marinating chicken and bell peppers in the jalapeño, lime juice, and cilantro. The chicken and vegetables are then cooked in a skillet until lightly charred, then served with the lemongrass and topped with a dollop of guacamole. Fajitas are typically enjoyed as a meal on their own, loaded into tacos, or as an appetizer with chips.\"\\n  },\\n  {\\n    \"title\": {\\n      \"english_translation\": \"Lemon-Cilantro White Rice\",\\n      \"original_language\": \"Arroz Blanco de Limón y Cilantro\",\\n      \"english_pronunciation\": \"Ah-rohs Blah-nah-koh day lee-mohn ee see-lan-troh\"\\n    },\\n    \"cuisine\": \"Indian\",\\n    \"description\": \"Provides the perfect balance of flavor and texture in every bite. This dish is made by cooking basmati rice with jalapeño, lemongrass, and cilantro. The rice is then seasoned with salt and pepper, and finished off with a squeeze of lime juice. This dish is typically enjoyed as a side to curries or stews.\"\\n  },\\n  {\\n    \"title\": {\\n      \"english_translation\": \"Creamy Cilantro-Lime Soup\",\\n      \"original_language\": \"Sopa cremosa de Cilantro y Limón\",\\n      \"english_pronunciation\": \"Soh-pah kreh-moh-sah day see-lan-troh ee lee-mohn\"\\n    },\\n    \"cuisine\": \"Italian\",\\n    \"description\": \"Combines the robust flavors of cilantro, lemongrass, and jalapeño to create a unique and refreshing soup. This dish is made by simmering the jalapeno in a stock and then combining with the cream, cilantro, and lemongrass. Finishing touches like vegetables, lime juice, and salt and pepper can be added to make this dish even more flavorful. This soup is typically enjoyed as a starter or'"
      ]
     },
     "execution_count": 27,
     "metadata": {},
     "output_type": "execute_result"
    }
   ],
   "source": [
    "reco_parsed_result_chain.run(\"cilantro, lemongrass\")"
   ]
  },
  {
   "cell_type": "code",
   "execution_count": 5,
   "id": "532b15cc",
   "metadata": {},
   "outputs": [],
   "source": [
    "# too wordy, I'm not a big fan of the new prompt\n",
    "# changing it a bit\n",
    "from langchain.llms import OpenAI\n",
    "from langchain.chains import LLMChain, SimpleSequentialChain\n",
    "from langchain.prompts import PromptTemplate\n",
    "\n",
    "# recipe recommendation chain\n",
    "llm_reco = OpenAI(temperature=1.0, max_tokens=1000)\n",
    "reco_template = \"\"\"Your task is to recommend 5 different dishes using all the ingredients provided by the user. For each dish, please provide the English translation and original language name, as well as the pronunciation of the name in English. In addition, please specify the type of cuisine and provide a brief description of the dish, including its main ingredients and how it is typically enjoyed. Be concise and clear.\n",
    "ingredients: {ingredients}\"\"\"\n",
    "reco_prompt_template = PromptTemplate(input_variables=['ingredients'],template=reco_template)\n",
    "reco_chain = LLMChain(llm=llm_reco,prompt=reco_prompt_template)\n",
    "\n",
    "# json parsing chain\n",
    "# not using the output parser for now\n",
    "llm_parser = OpenAI(temperature=0.0, max_tokens=1000)\n",
    "parser_template = \"\"\"Your task is to format a list of recipes into a list of JSON documents according to the following key-value schema:\n",
    "\"title\":\n",
    "    \"english_translation\": \"English translation of recipe title\",\n",
    "    \"original_language\": \"Original language title\",\n",
    "    \"english_pronunciation\": \"English pronunciation of original language\"\n",
    "\"cuisine\": \"Cuisine type\"\n",
    "\"description\": \"Description\"\n",
    "Please ensure that you use only the information given in the input list and do not create new keys or values. For each recipe, provide an English translation of the recipe title, the original language title, and the English pronunciation of the original language title under the \"title\" key. Under the \"cuisine\" key, provide the cuisine type of the recipe, and under the \"description\" key, provide a description of the recipe.\n",
    "input: {recipe_list}\"\"\"\n",
    "parser_prompt_template = PromptTemplate(input_variables=['recipe_list'],template=parser_template)\n",
    "parser_chain = LLMChain(llm=llm_parser,prompt=parser_prompt_template)\n",
    "\n",
    "\n",
    "# sequential chain\n",
    "reco_parsed_result_chain = SimpleSequentialChain(\n",
    "    chains=[reco_chain,parser_chain],\n",
    "    verbose=True\n",
    ")"
   ]
  },
  {
   "cell_type": "code",
   "execution_count": 7,
   "id": "26645d2d",
   "metadata": {},
   "outputs": [
    {
     "name": "stdout",
     "output_type": "stream",
     "text": [
      "\n",
      "\n",
      "\u001b[1m> Entering new SimpleSequentialChain chain...\u001b[0m\n",
      "\u001b[36;1m\u001b[1;3m, sesame oil, fish sauce\n",
      "\n",
      "1. Tom Yar Goong (ต้มยำกุ้ง) – Thai Cuisine – This spicy soup dish features prawns cooked in a flavorful broth with the fresh flavors of cilantro, lemongrass, and sesame oil. It is typically served with fish sauce as a condiment and enjoyed as a main meal.\n",
      "\n",
      "2. Char Kway Teow (炒粿條) – Cantonese Cuisine – This stir-fried rice noodle dish is a classic in Southeast Asian cuisine. It is made with flat rice noodles, sesame oil, fish sauce, and the fragrant flavors of cilantro and lemongrass for a unique, umami flavor. The dish is typically served as a main course alongside soup or other side dishes.\n",
      "\n",
      "3. Gai Pad Krapow (ไก่ผัดกระเพรา) – Thai Cuisine – This stir-fried basil dish features diced chicken cooked with the aromatic flavors of cilantro, lemongrass, sesame oil, and fish sauce. It is usually served with steamed or fried rice and topped off with a fried egg, making it a popular, delectable main dish.\n",
      "\n",
      "4. Laap Plaa Khaawng Neung Sadet (ลาบปลาข้องเหนือํสะเด็ด) – Lao Cuisine – Laap is a traditional Lao dish made with minced raw fish cooked in a marinade of cilantro, lemongrass, sesame oil, and fish sauce. The final dish is served with steamed sticky rice and fresh vegetables as a main meal.\n",
      "\n",
      "5. Sambal Kacang (ÀÅ¤Á‹Ã ÂÍ»ážÍ·) – Indonesian Cuisine - This classic Indonesian dish features a mixture of ground peanuts cooked with fresh chili peppers, sesame oil, fish sauce, and the fragrant flavors of cilantro and lemongrass. It is usually served as a condiment or side dish to accompany a main dish, like grilled meats or fish.\u001b[0m\n",
      "\u001b[33;1m\u001b[1;3m\n",
      "\n",
      "[\n",
      "  {\n",
      "    \"title\": {\n",
      "      \"english_translation\": \"Tom Yar Goong\",\n",
      "      \"original_language\": \"ต้มยำกุ้ง\",\n",
      "      \"english_pronunciation\": \"tohm yahr goong\"\n",
      "    },\n",
      "    \"cuisine\": \"Thai Cuisine\",\n",
      "    \"description\": \"This spicy soup dish features prawns cooked in a flavorful broth with the fresh flavors of cilantro, lemongrass, and sesame oil. It is typically served with fish sauce as a condiment and enjoyed as a main meal.\"\n",
      "  },\n",
      "  {\n",
      "    \"title\": {\n",
      "      \"english_translation\": \"Char Kway Teow\",\n",
      "      \"original_language\": \"炒粿條\",\n",
      "      \"english_pronunciation\": \"chahr kway teow\"\n",
      "    },\n",
      "    \"cuisine\": \"Cantonese Cuisine\",\n",
      "    \"description\": \"This stir-fried rice noodle dish is a classic in Southeast Asian cuisine. It is made with flat rice noodles, sesame oil, fish sauce, and the fragrant flavors of cilantro and lemongrass for a unique, umami flavor. The dish is typically served as a main course alongside soup or other side dishes.\"\n",
      "  },\n",
      "  {\n",
      "    \"title\": {\n",
      "      \"english_translation\": \"Gai Pad Krapow\",\n",
      "      \"original_language\": \"ไก่ผัดกระเพรา\",\n",
      "      \"english_pronunciation\": \"gai pad krah-poh\"\n",
      "    },\n",
      "    \"cuisine\": \"Thai Cuisine\",\n",
      "    \"description\": \"This stir-fried basil dish features diced chicken cooked with the aromatic flavors of cilantro, lemongrass, sesame oil, and fish sauce. It is usually served with steamed or fried rice and topped off with a fried egg, making it a popular, delectable main dish.\"\n",
      "  },\n",
      "  {\n",
      "    \"title\": {\n",
      "      \"english_translation\": \"Laap Plaa Khaawng Neung Sadet\",\n",
      "      \"original_language\": \"ลาบปลาข้องเหนือํสะเด็ด\",\n",
      "      \"english_pronunciation\": \"laap plah khaawng neung sah-det\"\n",
      "    },\n",
      "    \"cuisine\": \"Lao Cuisine\",\n",
      "    \"description\": \"Laap is a traditional Lao dish made with minced raw fish cooked in a marinade of cilantro, lemongrass, sesame oil, and fish sauce. The final dish is served with steamed sticky rice and fresh vegetables as a main meal.\"\n",
      "  },\n",
      "  {\n",
      "    \"title\": {\n",
      "      \"english_translation\": \"Sambal Kacang\",\n",
      "      \"original_language\": \"ÀÅ¤Á‹Ã ÂÍ»ážÍ·\",\n",
      "      \"english_pronunciation\": \"sahm-bahl kah-chahng\"\n",
      "    },\n",
      "    \"cuisine\": \"Indonesian Cuisine\",\n",
      "    \"description\": \"This classic Indonesian dish features a mixture of ground peanuts cooked with fresh chili peppers, sesame oil, fish sauce, and the fragrant flavors of cilantro and lemongrass. It is usually served as a condiment or side dish to accompany a main dish, like grilled meats or fish.\"\n",
      "  }\n",
      "]\u001b[0m\n",
      "\n",
      "\u001b[1m> Finished chain.\u001b[0m\n"
     ]
    }
   ],
   "source": [
    "response = reco_parsed_result_chain.run(\"cilantro, lemongrass\")"
   ]
  },
  {
   "cell_type": "code",
   "execution_count": 8,
   "id": "bff40cbb",
   "metadata": {},
   "outputs": [
    {
     "data": {
      "text/plain": [
       "[{'title': {'english_translation': 'Tom Yar Goong',\n",
       "   'original_language': 'ต้มยำกุ้ง',\n",
       "   'english_pronunciation': 'tohm yahr goong'},\n",
       "  'cuisine': 'Thai Cuisine',\n",
       "  'description': 'This spicy soup dish features prawns cooked in a flavorful broth with the fresh flavors of cilantro, lemongrass, and sesame oil. It is typically served with fish sauce as a condiment and enjoyed as a main meal.'},\n",
       " {'title': {'english_translation': 'Char Kway Teow',\n",
       "   'original_language': '炒粿條',\n",
       "   'english_pronunciation': 'chahr kway teow'},\n",
       "  'cuisine': 'Cantonese Cuisine',\n",
       "  'description': 'This stir-fried rice noodle dish is a classic in Southeast Asian cuisine. It is made with flat rice noodles, sesame oil, fish sauce, and the fragrant flavors of cilantro and lemongrass for a unique, umami flavor. The dish is typically served as a main course alongside soup or other side dishes.'},\n",
       " {'title': {'english_translation': 'Gai Pad Krapow',\n",
       "   'original_language': 'ไก่ผัดกระเพรา',\n",
       "   'english_pronunciation': 'gai pad krah-poh'},\n",
       "  'cuisine': 'Thai Cuisine',\n",
       "  'description': 'This stir-fried basil dish features diced chicken cooked with the aromatic flavors of cilantro, lemongrass, sesame oil, and fish sauce. It is usually served with steamed or fried rice and topped off with a fried egg, making it a popular, delectable main dish.'},\n",
       " {'title': {'english_translation': 'Laap Plaa Khaawng Neung Sadet',\n",
       "   'original_language': 'ลาบปลาข้องเหนือํสะเด็ด',\n",
       "   'english_pronunciation': 'laap plah khaawng neung sah-det'},\n",
       "  'cuisine': 'Lao Cuisine',\n",
       "  'description': 'Laap is a traditional Lao dish made with minced raw fish cooked in a marinade of cilantro, lemongrass, sesame oil, and fish sauce. The final dish is served with steamed sticky rice and fresh vegetables as a main meal.'},\n",
       " {'title': {'english_translation': 'Sambal Kacang',\n",
       "   'original_language': 'ÀÅ¤Á‹Ã ÂÍ»ážÍ·',\n",
       "   'english_pronunciation': 'sahm-bahl kah-chahng'},\n",
       "  'cuisine': 'Indonesian Cuisine',\n",
       "  'description': 'This classic Indonesian dish features a mixture of ground peanuts cooked with fresh chili peppers, sesame oil, fish sauce, and the fragrant flavors of cilantro and lemongrass. It is usually served as a condiment or side dish to accompany a main dish, like grilled meats or fish.'}]"
      ]
     },
     "execution_count": 8,
     "metadata": {},
     "output_type": "execute_result"
    }
   ],
   "source": [
    "import json\n",
    "formatted_response = json.loads(response)\n",
    "formatted_response"
   ]
  }
 ],
 "metadata": {
  "kernelspec": {
   "display_name": "venv_rr",
   "language": "python",
   "name": "venv_rr"
  },
  "language_info": {
   "codemirror_mode": {
    "name": "ipython",
    "version": 3
   },
   "file_extension": ".py",
   "mimetype": "text/x-python",
   "name": "python",
   "nbconvert_exporter": "python",
   "pygments_lexer": "ipython3",
   "version": "3.9.6"
  }
 },
 "nbformat": 4,
 "nbformat_minor": 5
}
